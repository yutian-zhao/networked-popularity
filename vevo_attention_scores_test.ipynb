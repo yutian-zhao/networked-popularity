{
 "cells": [
  {
   "cell_type": "code",
   "execution_count": null,
   "id": "293c2435",
   "metadata": {},
   "outputs": [],
   "source": [
    "### Some parts of the code depend on Siqi Wu's code: https://github.com/avalanchesiqi/networked-popularity\n",
    "### In order to run the code, please clone Siqi Wu's repo and put this file in the root directory.\n",
    "### Remember to download all data from https://drive.google.com/drive/folders/19R3_2hRMVqlMGELZm47ruk8D9kqJvAmL?usp=sharing\n",
    "### And put all data to the data folder.\n",
    "\n",
    "### Author: Yutian Zhao\n",
    "### Reference from: Siqi Wu"
   ]
  },
  {
   "cell_type": "code",
   "execution_count": 17,
   "id": "2f6acbaf",
   "metadata": {},
   "outputs": [
    {
     "name": "stdout",
     "output_type": "stream",
     "text": [
      ">>> Daily view data has been loaded!\n"
     ]
    }
   ],
   "source": [
    "from utils.data_loader import DataLoader\n",
    "from datetime import datetime, timedelta\n",
    "import sys, os, pickle\n",
    "\n",
    "\n",
    "data_loader = DataLoader()\n",
    "data_loader.load_embed_content_dict()\n",
    "num_videos = data_loader.num_videos\n",
    "data_prefix = 'data/' # ../\n",
    "NUM_REL = 15\n",
    "T = 63\n",
    "edges = []\n",
    "\n",
    "for t in range(T):\n",
    "    filename = 'network_{0}.p'.format((datetime(2018, 9, 1) + timedelta(days=t)).strftime('%Y-%m-%d'))\n",
    "    daily_edges = set()\n",
    "    with open(os.path.join(data_prefix, 'network_pickle', filename), 'rb') as fin:\n",
    "        network_dict = pickle.load(fin)   # embed_tar: [(embed_src, pos_src, view_src), ...]\n",
    "#         print(\"here1\")\n",
    "        for tar_embed in range(num_videos):\n",
    "            for x in network_dict[tar_embed]:\n",
    "#                 print(\"here\")\n",
    "                if x[1] < NUM_REL:\n",
    "#                     print(\"here\")\n",
    "                    daily_edges.add((x[0], tar_embed))\n",
    "                    \n",
    "    edges.append(daily_edges)\n"
   ]
  },
  {
   "cell_type": "code",
   "execution_count": 7,
   "id": "d179cea3",
   "metadata": {},
   "outputs": [
    {
     "name": "stdout",
     "output_type": "stream",
     "text": [
      "num_edges:  616817\n",
      "num_nodes:  60501\n"
     ]
    }
   ],
   "source": [
    "radflow_nodes = set()\n",
    "radflow_edges = set()\n",
    "with open(os.path.join(data_prefix, 'vevo_attention_scores.csv'), 'r') as fin:\n",
    "    fin.readline()\n",
    "    for line in fin:\n",
    "        tar, src, score = line.split(\",\")\n",
    "#         scores = [float(i) for i in score.split(\";\")]\n",
    "        radflow_nodes.add(int(tar))\n",
    "        radflow_nodes.add(int(src))\n",
    "#         if np.sum(np.array(scores)) != 0:\n",
    "        radflow_edges.add((int(src), int(tar)))\n",
    "print(\"num_edges: \", len(radflow_edges))\n",
    "print(\"num_nodes: \", len(radflow_nodes))"
   ]
  },
  {
   "cell_type": "code",
   "execution_count": 19,
   "id": "4afa2983",
   "metadata": {},
   "outputs": [
    {
     "name": "stdout",
     "output_type": "stream",
     "text": [
      "number of edges not found:  313167\n"
     ]
    }
   ],
   "source": [
    "edges_not_found = []\n",
    "for s, t in radflow_edges:\n",
    "    flag = False\n",
    "    \n",
    "    for daily_edges in edges:    \n",
    "        if (s, t) in daily_edges:\n",
    "            flag = True\n",
    "            break\n",
    "            \n",
    "    if not flag:\n",
    "        edges_not_found.append((s, t))\n",
    "\n",
    "print(\"number of edges not found: \", len(edges_not_found))"
   ]
  },
  {
   "cell_type": "code",
   "execution_count": null,
   "id": "6fc4672f",
   "metadata": {},
   "outputs": [],
   "source": []
  }
 ],
 "metadata": {
  "kernelspec": {
   "display_name": "Python 3",
   "language": "python",
   "name": "python3"
  },
  "language_info": {
   "codemirror_mode": {
    "name": "ipython",
    "version": 3
   },
   "file_extension": ".py",
   "mimetype": "text/x-python",
   "name": "python",
   "nbconvert_exporter": "python",
   "pygments_lexer": "ipython3",
   "version": "3.8.8"
  }
 },
 "nbformat": 4,
 "nbformat_minor": 5
}
