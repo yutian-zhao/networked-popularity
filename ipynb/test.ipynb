{
 "cells": [
  {
   "cell_type": "code",
   "execution_count": 1,
   "metadata": {},
   "outputs": [],
   "source": [
    "import sys, os, platform, pickle\n",
    "from datetime import datetime, timedelta\n",
    "import numpy as np\n",
    "from collections import Counter, defaultdict\n",
    "import matplotlib.pyplot as plt\n",
    "import networkx as nx\n",
    "from tqdm import tqdm"
   ]
  },
  {
   "cell_type": "code",
   "execution_count": 2,
   "metadata": {},
   "outputs": [
    {
     "data": {
      "text/plain": [
       "'D:\\\\Users\\\\17535\\\\Personal\\\\Study\\\\ANU 2021 S1\\\\COMP3740\\\\networked-popularity'"
      ]
     },
     "execution_count": 2,
     "metadata": {},
     "output_type": "execute_result"
    }
   ],
   "source": [
    "sys.path.append(os.path.join(os.getcwd(), '../'))\n",
    "os.getcwd()"
   ]
  },
  {
   "cell_type": "code",
   "execution_count": 3,
   "metadata": {},
   "outputs": [],
   "source": [
    "from utils.helper import Timer, str2obj, gini\n",
    "from utils.data_loader import DataLoader\n",
    "from utils.plot import ColorPalette, concise_fmt, hide_spines, stackedBarPlot\n",
    "data_prefix = 'data/' # ../"
   ]
  },
  {
   "cell_type": "code",
   "execution_count": 5,
   "metadata": {},
   "outputs": [
    {
     "name": "stdout",
     "output_type": "stream",
     "text": [
      ">>> Daily view data has been loaded!\n"
     ]
    }
   ],
   "source": [
    "timer = Timer()\n",
    "timer.start()\n",
    "\n",
    "\n",
    "\n",
    "target_day_indices = [0, 15, 30, 45]\n",
    "color_cycle_4 = ColorPalette.CC4\n",
    "date_labels = ['Sep 01, 2018', 'Sep 16, 2018', 'Oct 01, 2018', 'Oct 16, 2018']\n",
    "\n",
    "# == == == == == == Part 2: Load video views == == == == == == #\n",
    "data_loader = DataLoader()\n",
    "data_loader.load_video_views()\n",
    "# data_loader.cwd\n",
    "embed_view_dict = data_loader.embed_view_dict\n",
    "embed_avg_view_dict = data_loader.embed_avg_view_dict\n",
    "num_videos = data_loader.num_videos\n",
    "\n",
    "# target_day_view_list = [[], [], [], []]\n",
    "# for embed in range(num_videos):\n",
    "#     for target_idx, target_day in enumerate(target_day_indices):\n",
    "#         target_day_view_list[target_idx].append(embed_view_dict[embed][target_day])\n"
   ]
  },
  {
   "cell_type": "code",
   "execution_count": 6,
   "metadata": {},
   "outputs": [
    {
     "name": "stdout",
     "output_type": "stream",
     "text": [
      ">>> Finish loading day 1...\n",
      ">>> Finish loading day 2...\n",
      ">>> Finish loading day 3...\n",
      ">>> Finish loading day 4...\n",
      ">>> Finish loading day 5...\n",
      ">>> Finish loading day 6...\n",
      ">>> Finish loading day 7...\n",
      ">>> Finish loading day 8...\n",
      ">>> Finish loading day 9...\n",
      ">>> Finish loading day 10...\n",
      ">>> Finish loading day 11...\n",
      ">>> Finish loading day 12...\n",
      ">>> Finish loading day 13...\n",
      ">>> Finish loading day 14...\n",
      ">>> Finish loading day 15...\n",
      ">>> Finish loading day 16...\n",
      ">>> Finish loading day 17...\n",
      ">>> Finish loading day 18...\n",
      ">>> Finish loading day 19...\n",
      ">>> Finish loading day 20...\n",
      ">>> Finish loading day 21...\n",
      ">>> Finish loading day 22...\n",
      ">>> Finish loading day 23...\n",
      ">>> Finish loading day 24...\n",
      ">>> Finish loading day 25...\n",
      ">>> Finish loading day 26...\n",
      ">>> Finish loading day 27...\n",
      ">>> Finish loading day 28...\n",
      ">>> Finish loading day 29...\n",
      ">>> Finish loading day 30...\n",
      ">>> Finish loading day 31...\n",
      ">>> Finish loading day 32...\n",
      ">>> Finish loading day 33...\n",
      ">>> Finish loading day 34...\n",
      ">>> Finish loading day 35...\n",
      ">>> Finish loading day 36...\n",
      ">>> Finish loading day 37...\n",
      ">>> Finish loading day 38...\n",
      ">>> Finish loading day 39...\n",
      ">>> Finish loading day 40...\n",
      ">>> Finish loading day 41...\n",
      ">>> Finish loading day 42...\n",
      ">>> Finish loading day 43...\n",
      ">>> Finish loading day 44...\n",
      ">>> Finish loading day 45...\n",
      ">>> Finish loading day 46...\n",
      ">>> Finish loading day 47...\n",
      ">>> Finish loading day 48...\n",
      ">>> Finish loading day 49...\n",
      ">>> Finish loading day 50...\n",
      ">>> Finish loading day 51...\n",
      ">>> Finish loading day 52...\n",
      ">>> Finish loading day 53...\n",
      ">>> Finish loading day 54...\n",
      ">>> Finish loading day 55...\n",
      ">>> Finish loading day 56...\n",
      ">>> Finish loading day 57...\n",
      ">>> Finish loading day 58...\n",
      ">>> Finish loading day 59...\n",
      ">>> Finish loading day 60...\n",
      ">>> Finish loading day 61...\n",
      ">>> Finish loading day 62...\n",
      ">>> Finish loading day 63...\n",
      ">>> Network structure has been loaded!\n"
     ]
    }
   ],
   "source": [
    "NUM_REL = 15\n",
    "T = 63\n",
    "edges = []\n",
    "# embed_indegree_dict = {embed: np.zeros((T,)) for embed in np.arange(num_videos)}  # daily indegree for each embed\n",
    "# zero_indegree_list = []  # percentage of zero indegree for each day\n",
    "# num_edges_list = []  # number of total edges for each day\n",
    "for t in range(T):\n",
    "    filename = 'network_{0}.p'.format((datetime(2018, 9, 1) + timedelta(days=t)).strftime('%Y-%m-%d'))\n",
    "#     indegree_list = []\n",
    "    daily_edges = []\n",
    "    with open(os.path.join(data_prefix, 'network_pickle', filename), 'rb') as fin:\n",
    "        network_dict = pickle.load(fin)\n",
    "        # embed_tar: [(embed_src, pos_src, view_src), ...]\n",
    "        for tar_embed in range(num_videos):\n",
    "#             indegree_value = 0\n",
    "            for x in network_dict[tar_embed]:\n",
    "                if x[1] < NUM_REL:\n",
    "#                     indegree_value += 1\n",
    "                    daily_edges.append((x[0], tar_embed))\n",
    "#             embed_indegree_dict[tar_embed][t] = indegree_value\n",
    "#             indegree_list.append(indegree_value)\n",
    "#     indegree_counter = Counter(indegree_list)\n",
    "#     zero_indegree_list.append(indegree_counter[0] / num_videos)\n",
    "#     num_edges_list.append(sum(indegree_list))\n",
    "    edges.append(daily_edges)\n",
    "#     print('>>> Finish loading day {0}...'.format(t + 1))\n",
    "print('>>> Network structure has been loaded!')\n",
    "# print('\\n>>> Average number of edges: {0:.0f}, max: {1:.0f}, min: {2:.0f}, sum: {3:.0f}'.format(sum(num_edges_list) / len(num_edges_list), max(num_edges_list), min(num_edges_list),sum(num_edges_list)))\n"
   ]
  },
  {
   "cell_type": "code",
   "execution_count": 29,
   "metadata": {},
   "outputs": [
    {
     "name": "stdout",
     "output_type": "stream",
     "text": [
      "length of 1 -> 1 is 0\n",
      "length of 1 -> 2 is 1\n",
      "length of 1 -> 3 is 1\n",
      "length of 2 -> 2 is 0\n",
      "length of 3 -> 3 is 0\n",
      "length of 4 -> 4 is 0\n"
     ]
    }
   ],
   "source": []
  },
  {
   "cell_type": "code",
   "execution_count": 28,
   "metadata": {},
   "outputs": [],
   "source": [
    "\n"
   ]
  },
  {
   "cell_type": "code",
   "execution_count": 26,
   "metadata": {},
   "outputs": [
    {
     "data": {
      "text/plain": [
       "<generator object all_pairs_shortest_path_length at 0x00000157D2A7E510>"
      ]
     },
     "execution_count": 26,
     "metadata": {},
     "output_type": "execute_result"
    }
   ],
   "source": [
    "it"
   ]
  },
  {
   "cell_type": "code",
   "execution_count": 17,
   "metadata": {},
   "outputs": [
    {
     "data": {
      "text/plain": [
       "60348"
      ]
     },
     "execution_count": 17,
     "metadata": {},
     "output_type": "execute_result"
    }
   ],
   "source": []
  },
  {
   "cell_type": "code",
   "execution_count": 19,
   "metadata": {},
   "outputs": [
    {
     "data": {
      "text/plain": [
       "0.3345351772582593"
      ]
     },
     "execution_count": 19,
     "metadata": {},
     "output_type": "execute_result"
    }
   ],
   "source": [
    "# example = nx.DiGraph()\n",
    "# example.add_edges_from([(1,2), (1,3)])\n",
    "# example.add_node(4)\n",
    "# it = nx.shortest_path_length(example)\n",
    "# for src, dct in it:\n",
    "#     for i in dct.keys():\n",
    "#         print(\"length of {0} -> {1} is {2}\".format(src, i, dct[i]))\n",
    "\n",
    "# G1 = nx.DiGraph()\n",
    "# G1.add_edges_from(edges[1])\n",
    "# graph_lst.append(G)\n",
    "# len(list(G1.nodes))\n",
    "\n",
    "# leng = [len(i) for i in nx.connected_components(G1.to_undirected())]\n",
    "# sum(leng)\n",
    "\n",
    "# sum(num_edges_list) / num_videos / T\n",
    "# np.mean(zero_indegree_list)"
   ]
  },
  {
   "cell_type": "code",
   "execution_count": 21,
   "metadata": {},
   "outputs": [],
   "source": [
    "import pandas as pd\n",
    "\n",
    "G1 = nx.DiGraph()\n",
    "G1.add_edges_from(edges[1])\n",
    "G1 = G1.reverse(copy=False)  # want nodes to the target\n",
    "# length = nx.floyd_warshall_numpy(G1, cutoff=5)\n",
    "# shortest_length = []\n",
    "length = dict(nx.all_pairs_shortest_path_length(G1, cutoff=5))\n"
   ]
  },
  {
   "cell_type": "code",
   "execution_count": 38,
   "metadata": {},
   "outputs": [],
   "source": [
    "shortest_length = []\n",
    "for i in length.keys():\n",
    "    shortest_length.append(np.mean(np.array(list(length[i].values()))))"
   ]
  },
  {
   "cell_type": "code",
   "execution_count": 41,
   "metadata": {},
   "outputs": [
    {
     "data": {
      "text/plain": [
       "0.10678300954889694"
      ]
     },
     "execution_count": 41,
     "metadata": {},
     "output_type": "execute_result"
    }
   ],
   "source": [
    "shortest_length = np.array(shortest_length)\n",
    "pos = shortest_length[shortest_length>1]\n",
    "len(pos[pos<2])/num_videos"
   ]
  },
  {
   "cell_type": "code",
   "execution_count": 42,
   "metadata": {},
   "outputs": [
    {
     "data": {
      "text/plain": [
       "array([1.        , 1.6       , 0.        , ..., 0.        , 3.21170396,\n",
       "       0.66666667])"
      ]
     },
     "execution_count": 42,
     "metadata": {},
     "output_type": "execute_result"
    }
   ],
   "source": [
    "shortest_length"
   ]
  },
  {
   "cell_type": "code",
   "execution_count": 45,
   "metadata": {},
   "outputs": [
    {
     "data": {
      "text/plain": [
       "(array([0.63830413, 0.24893962, 0.19015242, 0.12321152, 0.12720449,\n",
       "        0.1420355 , 0.15877912, 0.15169915, 0.15720206, 0.08740904]),\n",
       " array([0.        , 0.49384251, 0.98768502, 1.48152753, 1.97537004,\n",
       "        2.46921255, 2.96305506, 3.45689757, 3.95074008, 4.44458259,\n",
       "        4.9384251 ]),\n",
       " <BarContainer object of 10 artists>)"
      ]
     },
     "execution_count": 45,
     "metadata": {},
     "output_type": "execute_result"
    },
    {
     "data": {
      "image/png": "[encoded data removed]",
      "text/plain": [
       "<Figure size 432x288 with 1 Axes>"
      ]
     },
     "metadata": {
      "needs_background": "light"
     },
     "output_type": "display_data"
    }
   ],
   "source": [
    "plt.hist(shortest_length, bins=10, density=True)"
   ]
  },
  {
   "cell_type": "code",
   "execution_count": 18,
   "metadata": {},
   "outputs": [
    {
     "data": {
      "text/plain": [
       "100.0"
      ]
     },
     "execution_count": 18,
     "metadata": {},
     "output_type": "execute_result"
    }
   ],
   "source": [
    "n = 60000**3/10**7\n",
    "n/60**3"
   ]
  },
  {
   "cell_type": "code",
   "execution_count": null,
   "metadata": {},
   "outputs": [],
   "source": [
    "df = pd.DataFrame.from_dict(length)\n",
    "df"
   ]
  },
  {
   "cell_type": "code",
   "execution_count": 11,
   "metadata": {},
   "outputs": [],
   "source": [
    "def path(G):\n",
    "    G = G.reverse(copy=False)  # want nodes to the target\n",
    "#     not_connected = [None for _ in range(len(G.nodes))]  # default is num_nodes-1, meaning disconnected\n",
    "#     shortest_length = [None for _ in range(len(G.nodes))]  # 0 means disconnected\n",
    "#     reversed_shortest_length = [None for _ in range(len(G.nodes))]  # 0 means disconnected\n",
    "#     not_connected = []\n",
    "    shortest_length = []\n",
    "#     reversed_shortest_length = []\n",
    "\n",
    "    it = nx.shortest_path_length(G)\n",
    "    num_nodes = len(G)\n",
    "    src_len = {}\n",
    "    for src, dct in tqdm(it):\n",
    "        src_len[src] = np.array(list(dct.values()))\n",
    "#         len_not_connected = num_nodes - len(dct.keys())\n",
    "#         if src>=len(G.nodes):\n",
    "#             print(src)\n",
    "#         not_connected[src] = len_not_connected\n",
    "#         not_connected.append(len_not_connected)\n",
    "    for i in tqdm(src_len.values()): \n",
    "        shortest_length.append(np.mean(i))\n",
    "#         reversed_values = values[values!=0]\n",
    "        \n",
    "#         print(type(values))\n",
    "#         print(type(reversed_values))\n",
    "#         print(values)\n",
    "#         print(reversed_values)\n",
    "#         reversed_shortest_length.append(np.sum(1/reversed_values))\n",
    "    \n",
    "#         src_shortest_length = 0\n",
    "#         src_reversed_shortest_length = 0\n",
    "#         for tgt in dct.keys():\n",
    "#             src_shortest_length += dct[tgt]\n",
    "#             if dct[tgt] != 0:\n",
    "#                 src_reversed_shortest_length += 1/dct[tgt]\n",
    "# #         shortest_length[src] = src_shortest_length\n",
    "#         shortest_length.append(src_shortest_length)\n",
    "# #         reversed_shortest_length[src] = src_reversed_shortest_length\n",
    "#         reversed_shortest_length.append(src_reversed_shortest_length)\n",
    "        \n",
    "#     return np.mean(not_connected), np.mean(shortest_length), np.mean(reversed_shortest_length)\n",
    "    return np.mean(shortest_length)\n",
    "\n"
   ]
  },
  {
   "cell_type": "code",
   "execution_count": 12,
   "metadata": {},
   "outputs": [
    {
     "name": "stderr",
     "output_type": "stream",
     "text": [
      "520it [00:16, 32.40it/s]\n"
     ]
    },
    {
     "ename": "KeyboardInterrupt",
     "evalue": "",
     "output_type": "error",
     "traceback": [
      "\u001b[1;31m---------------------------------------------------------------------------\u001b[0m",
      "\u001b[1;31mKeyboardInterrupt\u001b[0m                         Traceback (most recent call last)",
      "\u001b[1;32m<ipython-input-12-0191aef61cc9>\u001b[0m in \u001b[0;36m<module>\u001b[1;34m\u001b[0m\n\u001b[0;32m      7\u001b[0m \u001b[1;31m# avg_shortest_length = np.mean(shortest_length)\u001b[0m\u001b[1;33m\u001b[0m\u001b[1;33m\u001b[0m\u001b[1;33m\u001b[0m\u001b[0m\n\u001b[0;32m      8\u001b[0m \u001b[1;31m# avg_reversed_shortest_length = np.mean(reversed_shortest_length)\u001b[0m\u001b[1;33m\u001b[0m\u001b[1;33m\u001b[0m\u001b[1;33m\u001b[0m\u001b[0m\n\u001b[1;32m----> 9\u001b[1;33m \u001b[0mprint\u001b[0m\u001b[1;33m(\u001b[0m\u001b[0mpath\u001b[0m\u001b[1;33m(\u001b[0m\u001b[0mG1\u001b[0m\u001b[1;33m)\u001b[0m\u001b[1;33m)\u001b[0m\u001b[1;33m\u001b[0m\u001b[1;33m\u001b[0m\u001b[0m\n\u001b[0m\u001b[0;32m     10\u001b[0m \u001b[1;33m\u001b[0m\u001b[0m\n\u001b[0;32m     11\u001b[0m \u001b[1;33m\u001b[0m\u001b[0m\n",
      "\u001b[1;32m<ipython-input-11-291ffc3ab508>\u001b[0m in \u001b[0;36mpath\u001b[1;34m(G)\u001b[0m\n\u001b[0;32m     11\u001b[0m     \u001b[0mnum_nodes\u001b[0m \u001b[1;33m=\u001b[0m \u001b[0mlen\u001b[0m\u001b[1;33m(\u001b[0m\u001b[0mG\u001b[0m\u001b[1;33m)\u001b[0m\u001b[1;33m\u001b[0m\u001b[1;33m\u001b[0m\u001b[0m\n\u001b[0;32m     12\u001b[0m     \u001b[0msrc_len\u001b[0m \u001b[1;33m=\u001b[0m \u001b[1;33m{\u001b[0m\u001b[1;33m}\u001b[0m\u001b[1;33m\u001b[0m\u001b[1;33m\u001b[0m\u001b[0m\n\u001b[1;32m---> 13\u001b[1;33m     \u001b[1;32mfor\u001b[0m \u001b[0msrc\u001b[0m\u001b[1;33m,\u001b[0m \u001b[0mdct\u001b[0m \u001b[1;32min\u001b[0m \u001b[0mtqdm\u001b[0m\u001b[1;33m(\u001b[0m\u001b[0mit\u001b[0m\u001b[1;33m)\u001b[0m\u001b[1;33m:\u001b[0m\u001b[1;33m\u001b[0m\u001b[1;33m\u001b[0m\u001b[0m\n\u001b[0m\u001b[0;32m     14\u001b[0m         \u001b[0msrc_len\u001b[0m\u001b[1;33m[\u001b[0m\u001b[0msrc\u001b[0m\u001b[1;33m]\u001b[0m \u001b[1;33m=\u001b[0m \u001b[0mnp\u001b[0m\u001b[1;33m.\u001b[0m\u001b[0marray\u001b[0m\u001b[1;33m(\u001b[0m\u001b[0mlist\u001b[0m\u001b[1;33m(\u001b[0m\u001b[0mdct\u001b[0m\u001b[1;33m.\u001b[0m\u001b[0mvalues\u001b[0m\u001b[1;33m(\u001b[0m\u001b[1;33m)\u001b[0m\u001b[1;33m)\u001b[0m\u001b[1;33m)\u001b[0m\u001b[1;33m\u001b[0m\u001b[1;33m\u001b[0m\u001b[0m\n\u001b[0;32m     15\u001b[0m \u001b[1;31m#         len_not_connected = num_nodes - len(dct.keys())\u001b[0m\u001b[1;33m\u001b[0m\u001b[1;33m\u001b[0m\u001b[1;33m\u001b[0m\u001b[0m\n",
      "\u001b[1;32m~\\anaconda3\\lib\\site-packages\\tqdm\\std.py\u001b[0m in \u001b[0;36m__iter__\u001b[1;34m(self)\u001b[0m\n\u001b[0;32m   1163\u001b[0m \u001b[1;33m\u001b[0m\u001b[0m\n\u001b[0;32m   1164\u001b[0m         \u001b[1;32mtry\u001b[0m\u001b[1;33m:\u001b[0m\u001b[1;33m\u001b[0m\u001b[1;33m\u001b[0m\u001b[0m\n\u001b[1;32m-> 1165\u001b[1;33m             \u001b[1;32mfor\u001b[0m \u001b[0mobj\u001b[0m \u001b[1;32min\u001b[0m \u001b[0miterable\u001b[0m\u001b[1;33m:\u001b[0m\u001b[1;33m\u001b[0m\u001b[1;33m\u001b[0m\u001b[0m\n\u001b[0m\u001b[0;32m   1166\u001b[0m                 \u001b[1;32myield\u001b[0m \u001b[0mobj\u001b[0m\u001b[1;33m\u001b[0m\u001b[1;33m\u001b[0m\u001b[0m\n\u001b[0;32m   1167\u001b[0m                 \u001b[1;31m# Update and possibly print the progressbar.\u001b[0m\u001b[1;33m\u001b[0m\u001b[1;33m\u001b[0m\u001b[1;33m\u001b[0m\u001b[0m\n",
      "\u001b[1;32m~\\anaconda3\\lib\\site-packages\\networkx\\algorithms\\shortest_paths\\unweighted.py\u001b[0m in \u001b[0;36mall_pairs_shortest_path_length\u001b[1;34m(G, cutoff)\u001b[0m\n\u001b[0;32m    182\u001b[0m     \u001b[1;31m# TODO This can be trivially parallelized.\u001b[0m\u001b[1;33m\u001b[0m\u001b[1;33m\u001b[0m\u001b[1;33m\u001b[0m\u001b[0m\n\u001b[0;32m    183\u001b[0m     \u001b[1;32mfor\u001b[0m \u001b[0mn\u001b[0m \u001b[1;32min\u001b[0m \u001b[0mG\u001b[0m\u001b[1;33m:\u001b[0m\u001b[1;33m\u001b[0m\u001b[1;33m\u001b[0m\u001b[0m\n\u001b[1;32m--> 184\u001b[1;33m         \u001b[1;32myield\u001b[0m \u001b[1;33m(\u001b[0m\u001b[0mn\u001b[0m\u001b[1;33m,\u001b[0m \u001b[0mlength\u001b[0m\u001b[1;33m(\u001b[0m\u001b[0mG\u001b[0m\u001b[1;33m,\u001b[0m \u001b[0mn\u001b[0m\u001b[1;33m,\u001b[0m \u001b[0mcutoff\u001b[0m\u001b[1;33m=\u001b[0m\u001b[0mcutoff\u001b[0m\u001b[1;33m)\u001b[0m\u001b[1;33m)\u001b[0m\u001b[1;33m\u001b[0m\u001b[1;33m\u001b[0m\u001b[0m\n\u001b[0m\u001b[0;32m    185\u001b[0m \u001b[1;33m\u001b[0m\u001b[0m\n\u001b[0;32m    186\u001b[0m \u001b[1;33m\u001b[0m\u001b[0m\n",
      "\u001b[1;32m~\\anaconda3\\lib\\site-packages\\networkx\\algorithms\\shortest_paths\\unweighted.py\u001b[0m in \u001b[0;36msingle_source_shortest_path_length\u001b[1;34m(G, source, cutoff)\u001b[0m\n\u001b[0;32m     57\u001b[0m         \u001b[0mcutoff\u001b[0m \u001b[1;33m=\u001b[0m \u001b[0mfloat\u001b[0m\u001b[1;33m(\u001b[0m\u001b[1;34m\"inf\"\u001b[0m\u001b[1;33m)\u001b[0m\u001b[1;33m\u001b[0m\u001b[1;33m\u001b[0m\u001b[0m\n\u001b[0;32m     58\u001b[0m     \u001b[0mnextlevel\u001b[0m \u001b[1;33m=\u001b[0m \u001b[1;33m{\u001b[0m\u001b[0msource\u001b[0m\u001b[1;33m:\u001b[0m \u001b[1;36m1\u001b[0m\u001b[1;33m}\u001b[0m\u001b[1;33m\u001b[0m\u001b[1;33m\u001b[0m\u001b[0m\n\u001b[1;32m---> 59\u001b[1;33m     \u001b[1;32mreturn\u001b[0m \u001b[0mdict\u001b[0m\u001b[1;33m(\u001b[0m\u001b[0m_single_shortest_path_length\u001b[0m\u001b[1;33m(\u001b[0m\u001b[0mG\u001b[0m\u001b[1;33m.\u001b[0m\u001b[0madj\u001b[0m\u001b[1;33m,\u001b[0m \u001b[0mnextlevel\u001b[0m\u001b[1;33m,\u001b[0m \u001b[0mcutoff\u001b[0m\u001b[1;33m)\u001b[0m\u001b[1;33m)\u001b[0m\u001b[1;33m\u001b[0m\u001b[1;33m\u001b[0m\u001b[0m\n\u001b[0m\u001b[0;32m     60\u001b[0m \u001b[1;33m\u001b[0m\u001b[0m\n\u001b[0;32m     61\u001b[0m \u001b[1;33m\u001b[0m\u001b[0m\n",
      "\u001b[1;32m~\\anaconda3\\lib\\site-packages\\networkx\\algorithms\\shortest_paths\\unweighted.py\u001b[0m in \u001b[0;36m_single_shortest_path_length\u001b[1;34m(adj, firstlevel, cutoff)\u001b[0m\n\u001b[0;32m     84\u001b[0m             \u001b[1;32mif\u001b[0m \u001b[0mv\u001b[0m \u001b[1;32mnot\u001b[0m \u001b[1;32min\u001b[0m \u001b[0mseen\u001b[0m\u001b[1;33m:\u001b[0m\u001b[1;33m\u001b[0m\u001b[1;33m\u001b[0m\u001b[0m\n\u001b[0;32m     85\u001b[0m                 \u001b[0mseen\u001b[0m\u001b[1;33m[\u001b[0m\u001b[0mv\u001b[0m\u001b[1;33m]\u001b[0m \u001b[1;33m=\u001b[0m \u001b[0mlevel\u001b[0m  \u001b[1;31m# set the level of vertex v\u001b[0m\u001b[1;33m\u001b[0m\u001b[1;33m\u001b[0m\u001b[0m\n\u001b[1;32m---> 86\u001b[1;33m                 \u001b[0mfound\u001b[0m\u001b[1;33m.\u001b[0m\u001b[0mappend\u001b[0m\u001b[1;33m(\u001b[0m\u001b[0mv\u001b[0m\u001b[1;33m)\u001b[0m\u001b[1;33m\u001b[0m\u001b[1;33m\u001b[0m\u001b[0m\n\u001b[0m\u001b[0;32m     87\u001b[0m                 \u001b[1;32myield\u001b[0m \u001b[1;33m(\u001b[0m\u001b[0mv\u001b[0m\u001b[1;33m,\u001b[0m \u001b[0mlevel\u001b[0m\u001b[1;33m)\u001b[0m\u001b[1;33m\u001b[0m\u001b[1;33m\u001b[0m\u001b[0m\n\u001b[0;32m     88\u001b[0m         \u001b[1;32mif\u001b[0m \u001b[0mlen\u001b[0m\u001b[1;33m(\u001b[0m\u001b[0mseen\u001b[0m\u001b[1;33m)\u001b[0m \u001b[1;33m==\u001b[0m \u001b[0mn\u001b[0m\u001b[1;33m:\u001b[0m\u001b[1;33m\u001b[0m\u001b[1;33m\u001b[0m\u001b[0m\n",
      "\u001b[1;31mKeyboardInterrupt\u001b[0m: "
     ]
    }
   ],
   "source": [
    "G1 = nx.DiGraph()\n",
    "G1.add_edges_from(edges[1])\n",
    "# graph_lst.append(G)\n",
    "# len(list(G1.nodes))\n",
    "# not_connected, shortest_length, reversed_shortest_length = path(G1)\n",
    "# avg_not_connected = np.mean(not_connected)\n",
    "# avg_shortest_length = np.mean(shortest_length)\n",
    "# avg_reversed_shortest_length = np.mean(reversed_shortest_length)\n",
    "print(path(G1))\n",
    "\n",
    "\n"
   ]
  },
  {
   "cell_type": "code",
   "execution_count": 41,
   "metadata": {},
   "outputs": [
    {
     "name": "stderr",
     "output_type": "stream",
     "text": [
      "<ipython-input-41-9ec77d3bae74>:2: RuntimeWarning: divide by zero encountered in true_divide\n",
      "  1/a\n"
     ]
    },
    {
     "data": {
      "text/plain": [
       "array([1. , 0.5, inf])"
      ]
     },
     "execution_count": 41,
     "metadata": {},
     "output_type": "execute_result"
    }
   ],
   "source": [
    "graph_lst = []\n",
    "for i in edges:\n",
    "    G = nx.DiGraph()\n",
    "    G.add_edges_from(i)\n",
    "    graph_lst.append(G)"
   ]
  },
  {
   "cell_type": "code",
   "execution_count": null,
   "metadata": {},
   "outputs": [],
   "source": [
    "not_connected = []\n",
    "shortest_length = []\n",
    "reversed_shortest_length = []\n",
    "\n",
    "for C in graph_lst\n",
    "    n, s, r = path(C)\n",
    "    not_connected.append(n)\n",
    "    not_connected.append(s)\n",
    "    not_connected.append(r)"
   ]
  },
  {
   "cell_type": "code",
   "execution_count": 35,
   "metadata": {},
   "outputs": [
    {
     "data": {
      "text/plain": [
       "[<matplotlib.lines.Line2D at 0x14e9b688b80>]"
      ]
     },
     "execution_count": 35,
     "metadata": {},
     "output_type": "execute_result"
    },
    {
     "data": {
      "image/png": "[encoded data removed]",
      "text/plain": [
       "<Figure size 432x288 with 1 Axes>"
      ]
     },
     "metadata": {
      "needs_background": "light"
     },
     "output_type": "display_data"
    }
   ],
   "source": [
    "\n",
    "\n",
    "lcc_lst = [100*len(max(nx.connected_components(G.to_undirected()), key=len))/num_videos for G in graph_lst]\n",
    "plt.plot(lcc_lst)\n",
    "\n",
    "# focus on disconnected points"
   ]
  },
  {
   "cell_type": "code",
   "execution_count": 33,
   "metadata": {},
   "outputs": [
    {
     "ename": "NetworkXError",
     "evalue": "Found infinite path length because the digraph is not strongly connected",
     "output_type": "error",
     "traceback": [
      "\u001b[1;31m---------------------------------------------------------------------------\u001b[0m",
      "\u001b[1;31mNetworkXError\u001b[0m                             Traceback (most recent call last)",
      "\u001b[1;32m<ipython-input-33-93b51e93902d>\u001b[0m in \u001b[0;36m<module>\u001b[1;34m\u001b[0m\n\u001b[1;32m----> 1\u001b[1;33m \u001b[0mdiam_lst\u001b[0m \u001b[1;33m=\u001b[0m \u001b[1;33m[\u001b[0m\u001b[0mnx\u001b[0m\u001b[1;33m.\u001b[0m\u001b[0mdiameter\u001b[0m\u001b[1;33m(\u001b[0m\u001b[0mG\u001b[0m\u001b[1;33m)\u001b[0m \u001b[1;32mfor\u001b[0m \u001b[0mG\u001b[0m \u001b[1;32min\u001b[0m \u001b[0mgraph_lst\u001b[0m\u001b[1;33m]\u001b[0m\u001b[1;33m\u001b[0m\u001b[1;33m\u001b[0m\u001b[0m\n\u001b[0m",
      "\u001b[1;32m<ipython-input-33-93b51e93902d>\u001b[0m in \u001b[0;36m<listcomp>\u001b[1;34m(.0)\u001b[0m\n\u001b[1;32m----> 1\u001b[1;33m \u001b[0mdiam_lst\u001b[0m \u001b[1;33m=\u001b[0m \u001b[1;33m[\u001b[0m\u001b[0mnx\u001b[0m\u001b[1;33m.\u001b[0m\u001b[0mdiameter\u001b[0m\u001b[1;33m(\u001b[0m\u001b[0mG\u001b[0m\u001b[1;33m)\u001b[0m \u001b[1;32mfor\u001b[0m \u001b[0mG\u001b[0m \u001b[1;32min\u001b[0m \u001b[0mgraph_lst\u001b[0m\u001b[1;33m]\u001b[0m\u001b[1;33m\u001b[0m\u001b[1;33m\u001b[0m\u001b[0m\n\u001b[0m",
      "\u001b[1;32m~\\anaconda3\\lib\\site-packages\\networkx\\algorithms\\distance_measures.py\u001b[0m in \u001b[0;36mdiameter\u001b[1;34m(G, e, usebounds)\u001b[0m\n\u001b[0;32m    297\u001b[0m         \u001b[1;32mreturn\u001b[0m \u001b[0mextrema_bounding\u001b[0m\u001b[1;33m(\u001b[0m\u001b[0mG\u001b[0m\u001b[1;33m,\u001b[0m \u001b[0mcompute\u001b[0m\u001b[1;33m=\u001b[0m\u001b[1;34m\"diameter\"\u001b[0m\u001b[1;33m)\u001b[0m\u001b[1;33m\u001b[0m\u001b[1;33m\u001b[0m\u001b[0m\n\u001b[0;32m    298\u001b[0m     \u001b[1;32mif\u001b[0m \u001b[0me\u001b[0m \u001b[1;32mis\u001b[0m \u001b[1;32mNone\u001b[0m\u001b[1;33m:\u001b[0m\u001b[1;33m\u001b[0m\u001b[1;33m\u001b[0m\u001b[0m\n\u001b[1;32m--> 299\u001b[1;33m         \u001b[0me\u001b[0m \u001b[1;33m=\u001b[0m \u001b[0meccentricity\u001b[0m\u001b[1;33m(\u001b[0m\u001b[0mG\u001b[0m\u001b[1;33m)\u001b[0m\u001b[1;33m\u001b[0m\u001b[1;33m\u001b[0m\u001b[0m\n\u001b[0m\u001b[0;32m    300\u001b[0m     \u001b[1;32mreturn\u001b[0m \u001b[0mmax\u001b[0m\u001b[1;33m(\u001b[0m\u001b[0me\u001b[0m\u001b[1;33m.\u001b[0m\u001b[0mvalues\u001b[0m\u001b[1;33m(\u001b[0m\u001b[1;33m)\u001b[0m\u001b[1;33m)\u001b[0m\u001b[1;33m\u001b[0m\u001b[1;33m\u001b[0m\u001b[0m\n\u001b[0;32m    301\u001b[0m \u001b[1;33m\u001b[0m\u001b[0m\n",
      "\u001b[1;32m~\\anaconda3\\lib\\site-packages\\networkx\\algorithms\\distance_measures.py\u001b[0m in \u001b[0;36meccentricity\u001b[1;34m(G, v, sp)\u001b[0m\n\u001b[0;32m    262\u001b[0m             \u001b[1;32melse\u001b[0m\u001b[1;33m:\u001b[0m\u001b[1;33m\u001b[0m\u001b[1;33m\u001b[0m\u001b[0m\n\u001b[0;32m    263\u001b[0m                 \u001b[0mmsg\u001b[0m \u001b[1;33m=\u001b[0m \u001b[1;34m\"Found infinite path length because the graph is not\"\u001b[0m \u001b[1;34m\" connected\"\u001b[0m\u001b[1;33m\u001b[0m\u001b[1;33m\u001b[0m\u001b[0m\n\u001b[1;32m--> 264\u001b[1;33m             \u001b[1;32mraise\u001b[0m \u001b[0mnx\u001b[0m\u001b[1;33m.\u001b[0m\u001b[0mNetworkXError\u001b[0m\u001b[1;33m(\u001b[0m\u001b[0mmsg\u001b[0m\u001b[1;33m)\u001b[0m\u001b[1;33m\u001b[0m\u001b[1;33m\u001b[0m\u001b[0m\n\u001b[0m\u001b[0;32m    265\u001b[0m \u001b[1;33m\u001b[0m\u001b[0m\n\u001b[0;32m    266\u001b[0m         \u001b[0me\u001b[0m\u001b[1;33m[\u001b[0m\u001b[0mn\u001b[0m\u001b[1;33m]\u001b[0m \u001b[1;33m=\u001b[0m \u001b[0mmax\u001b[0m\u001b[1;33m(\u001b[0m\u001b[0mlength\u001b[0m\u001b[1;33m.\u001b[0m\u001b[0mvalues\u001b[0m\u001b[1;33m(\u001b[0m\u001b[1;33m)\u001b[0m\u001b[1;33m)\u001b[0m\u001b[1;33m\u001b[0m\u001b[1;33m\u001b[0m\u001b[0m\n",
      "\u001b[1;31mNetworkXError\u001b[0m: Found infinite path length because the digraph is not strongly connected"
     ]
    }
   ],
   "source": [
    "diam_lst = [nx.diameter(G) for G in graph_lst]"
   ]
  },
  {
   "cell_type": "code",
   "execution_count": 27,
   "metadata": {},
   "outputs": [],
   "source": [
    "nx.diameter?"
   ]
  },
  {
   "cell_type": "code",
   "execution_count": 37,
   "metadata": {},
   "outputs": [
    {
     "data": {
      "text/plain": [
       "60740"
      ]
     },
     "execution_count": 37,
     "metadata": {},
     "output_type": "execute_result"
    }
   ],
   "source": [
    "num_videos"
   ]
  },
  {
   "cell_type": "code",
   "execution_count": null,
   "metadata": {},
   "outputs": [],
   "source": []
  }
 ],
 "metadata": {
  "kernelspec": {
   "display_name": "Python 3",
   "language": "python",
   "name": "python3"
  },
  "language_info": {
   "codemirror_mode": {
    "name": "ipython",
    "version": 3
   },
   "file_extension": ".py",
   "mimetype": "text/x-python",
   "name": "python",
   "nbconvert_exporter": "python",
   "pygments_lexer": "ipython3",
   "version": "3.8.5"
  }
 },
 "nbformat": 4,
 "nbformat_minor": 4
}
