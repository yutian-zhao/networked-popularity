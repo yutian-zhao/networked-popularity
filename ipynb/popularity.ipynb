{
 "cells": [
  {
   "cell_type": "markdown",
   "id": "76cc5af6",
   "metadata": {},
   "source": [
    "## Centrality, Genre, Popularity"
   ]
  },
  {
   "cell_type": "code",
   "execution_count": 1,
   "id": "e62cc159",
   "metadata": {},
   "outputs": [],
   "source": [
    "### Some parts of the code depend on Siqi Wu's code: https://github.com/avalanchesiqi/networked-popularity\n",
    "### In order to run the code, please clone Siqi Wu's repo and put this file in the root directory.\n",
    "### Remember to download all data from https://drive.google.com/drive/folders/19R3_2hRMVqlMGELZm47ruk8D9kqJvAmL?usp=sharing\n",
    "### And put all data to the data folder.\n",
    "\n",
    "### Author: Yutian Zhao\n",
    "### Reference from: Siqi Wu"
   ]
  },
  {
   "cell_type": "code",
   "execution_count": 1,
   "id": "f72cb710",
   "metadata": {},
   "outputs": [
    {
     "data": {
      "text/html": [
       "<script>\n",
       "code_show=true; \n",
       "function code_toggle() {\n",
       " if (code_show){\n",
       " $('div.input').hide();\n",
       " } else {\n",
       " $('div.input').show();\n",
       " }\n",
       " code_show = !code_show\n",
       "} \n",
       "$( document ).ready(code_toggle);\n",
       "</script>\n",
       "The raw code for this IPython notebook is by default hidden for easier reading.\n",
       "To toggle on/off the raw code, click <a href=\"javascript:code_toggle()\">here</a>."
      ],
      "text/plain": [
       "<IPython.core.display.HTML object>"
      ]
     },
     "execution_count": 1,
     "metadata": {},
     "output_type": "execute_result"
    }
   ],
   "source": [
    "from IPython.display import HTML\n",
    "HTML('''<script>\n",
    "code_show=true; \n",
    "function code_toggle() {\n",
    " if (code_show){\n",
    " $('div.input').hide();\n",
    " } else {\n",
    " $('div.input').show();\n",
    " }\n",
    " code_show = !code_show\n",
    "} \n",
    "$( document ).ready(code_toggle);\n",
    "</script>\n",
    "The raw code for this IPython notebook is by default hidden for easier reading.\n",
    "To toggle on/off the raw code, click <a href=\"javascript:code_toggle()\">here</a>.''')"
   ]
  },
  {
   "cell_type": "code",
   "execution_count": 2,
   "id": "97c94304",
   "metadata": {},
   "outputs": [],
   "source": [
    "import sys, os, platform, pickle, json, time\n",
    "from datetime import datetime, timedelta\n",
    "import numpy as np\n",
    "from collections import Counter, defaultdict\n",
    "import networkx as nx\n",
    "from tqdm import tqdm\n",
    "import math\n",
    "import scipy as sp\n",
    "import scipy.stats\n",
    "from scipy.stats import pearsonr, percentileofscore\n",
    "import statsmodels.api as sm\n",
    "\n",
    "from utils.data_loader import DataLoader\n",
    "from utils.plot import ColorPalette, concise_fmt, hide_spines, stackedBarPlot\n",
    "data_prefix = 'data/' # ../\n",
    "\n",
    "from powerlaw import Fit, plot_ccdf, plot_pdf\n",
    "\n",
    "import matplotlib as mpl\n",
    "if platform.system() == 'Linux':\n",
    "    mpl.use('Agg')  # no UI backend\n",
    "\n",
    "import matplotlib.pyplot as plt\n",
    "from matplotlib.ticker import FuncFormatter\n",
    "mpl.rcParams['lines.linewidth'] = 1"
   ]
  },
  {
   "cell_type": "code",
   "execution_count": 14,
   "id": "8d80f710",
   "metadata": {},
   "outputs": [
    {
     "name": "stdout",
     "output_type": "stream",
     "text": [
      "ddd: 0\n"
     ]
    }
   ],
   "source": [
    "print(\"ddd: {0:.0f}\".format(0.44443))"
   ]
  },
  {
   "cell_type": "code",
   "execution_count": 2,
   "id": "8bacdaea",
   "metadata": {},
   "outputs": [],
   "source": [
    "T = 63"
   ]
  },
  {
   "cell_type": "code",
   "execution_count": 3,
   "id": "87facac8",
   "metadata": {},
   "outputs": [
    {
     "name": "stdout",
     "output_type": "stream",
     "text": [
      ">>> Daily view data has been loaded!\n"
     ]
    }
   ],
   "source": [
    "data_loader = DataLoader()\n",
    "data_loader.load_embed_content_dict()\n",
    "# data_loader.cwd\n",
    "embed_view_dict = data_loader.embed_view_dict\n",
    "embed_avg_view_dict = data_loader.embed_avg_view_dict\n",
    "num_videos = data_loader.num_videos\n",
    "embed_title_dict = data_loader.embed_title_dict\n",
    "embed_genre_dict = data_loader.embed_genre_dict\n",
    "embed_all_genre_dict = data_loader.embed_all_genre_dict"
   ]
  },
  {
   "cell_type": "code",
   "execution_count": 4,
   "id": "24bc62d9",
   "metadata": {},
   "outputs": [],
   "source": [
    "### contrust network graph for each day\n",
    "if not os.path.exists(os.path.join(data_prefix, \"video_network.pkl\")):\n",
    "    graph_lst = []\n",
    "    for i in edges:\n",
    "        G = nx.DiGraph()\n",
    "        G.add_edges_from(i)\n",
    "        graph_lst.append(G)\n",
    "        \n",
    "    with open(os.path.join(data_prefix, \"video_network.pkl\"), 'wb') as fout:\n",
    "        pickle.dump(graph_lst, fout)\n",
    "else:\n",
    "    with open(os.path.join(data_prefix, \"video_network.pkl\"), 'rb') as fin:\n",
    "        graph_lst = pickle.load(fin)"
   ]
  },
  {
   "cell_type": "code",
   "execution_count": 5,
   "id": "17540a30",
   "metadata": {},
   "outputs": [],
   "source": [
    "indegree_lists = []\n",
    "for i in range(T):\n",
    "    indegree_list = []\n",
    "    for j in range(num_videos):\n",
    "        if graph_lst[i].has_node(j):\n",
    "            indegree_list.append(graph_lst[i].in_degree(j))\n",
    "        else:\n",
    "            indegree_list.append(0)\n",
    "    indegree_lists.append(indegree_list)\n",
    "indegree_lists = np.array(indegree_lists)"
   ]
  },
  {
   "cell_type": "code",
   "execution_count": 6,
   "id": "a217ad98",
   "metadata": {},
   "outputs": [
    {
     "name": "stdout",
     "output_type": "stream",
     "text": [
      "0\n",
      "1271\n",
      "5.97571668992479\n",
      "21.841518504001634\n"
     ]
    }
   ],
   "source": [
    "min_ind = np.min(indegree_lists)\n",
    "print(min_ind)\n",
    "max_ind = np.max(indegree_lists)\n",
    "print(max_ind)\n",
    "mean_ind = np.mean(indegree_lists)\n",
    "print(mean_ind)\n",
    "std_ind = np.std(indegree_lists)\n",
    "print(std_ind)"
   ]
  },
  {
   "cell_type": "code",
   "execution_count": 7,
   "id": "5f118697",
   "metadata": {},
   "outputs": [
    {
     "name": "stdout",
     "output_type": "stream",
     "text": [
      "(60740,)\n",
      "0.0\n",
      "870.6190476190476\n",
      "5.97571668992479\n",
      "20.828589212764456\n"
     ]
    }
   ],
   "source": [
    "avg_ind_list = np.mean(indegree_lists, axis=0) # in order\n",
    "print(avg_ind_list.shape)\n",
    "min_ind = np.min(avg_ind_list)\n",
    "print(min_ind)\n",
    "max_ind = np.max(avg_ind_list)\n",
    "print(max_ind)\n",
    "mean_ind = np.mean(avg_ind_list)\n",
    "print(mean_ind)\n",
    "std_ind = np.std(avg_ind_list)\n",
    "print(std_ind)"
   ]
  },
  {
   "cell_type": "code",
   "execution_count": 13,
   "id": "5a03dbd3",
   "metadata": {},
   "outputs": [
    {
     "data": {
      "image/png": "[encoded data removed]",
      "text/plain": [
       "<Figure size 432x288 with 1 Axes>"
      ]
     },
     "metadata": {
      "needs_background": "light"
     },
     "output_type": "display_data"
    }
   ],
   "source": [
    "fig, ax1 = plt.subplots()\n",
    "plot_ccdf(avg_ind_list, ax=ax1)\n",
    "    \n",
    "ax1.set_xscale('log')\n",
    "ax1.set_yscale('log')\n",
    "ax1.set_xlabel('indegree', fontsize=11)\n",
    "ax1.set_ylabel('$P(X) \\geq x$', fontsize=11)\n",
    "ax1.tick_params(axis='both', which='major', labelsize=10)\n",
    "ax1.set_title('Indegree distribution', fontsize=12)\n",
    "# ax1.legend(frameon=False, fontsize=11, ncol=1, fancybox=False, shadow=True)\n",
    "\n",
    "plt.show()"
   ]
  },
  {
   "cell_type": "code",
   "execution_count": 10,
   "id": "0b4ebdac",
   "metadata": {},
   "outputs": [
    {
     "name": "stdout",
     "output_type": "stream",
     "text": [
      "(63, 60740)\n"
     ]
    }
   ],
   "source": [
    "# 5 min\n",
    "if not os.path.exists(os.path.join(data_prefix, \"cc_lists_15.pkl\")):\n",
    "    cc_lists = []\n",
    "    for i in range(T):\n",
    "        cc_list = []\n",
    "        for j in range(num_videos):\n",
    "            if graph_lst[i].has_node(j):\n",
    "                cc_list.append(nx.clustering(graph_lst[i], j))\n",
    "            else:\n",
    "                cc_list.append(0)\n",
    "        cc_lists.append(cc_list)\n",
    "    cc_lists = np.array(cc_lists)\n",
    "    with open(os.path.join(data_prefix, \"cc_lists_15.pkl\"), 'wb') as fout:\n",
    "            pickle.dump(cc_lists, fout)\n",
    "else:\n",
    "    with open(os.path.join(data_prefix, \"cc_lists_15.pkl\"), 'rb') as fin:\n",
    "        cc_lists = pickle.load(fin)\n",
    "        \n",
    "print(cc_lists.shape)"
   ]
  },
  {
   "cell_type": "code",
   "execution_count": 11,
   "id": "e8b64254",
   "metadata": {},
   "outputs": [
    {
     "name": "stdout",
     "output_type": "stream",
     "text": [
      "(60740,)\n",
      "0.0\n",
      "0.9587301587301587\n",
      "0.14656105445036346\n",
      "0.10597113300461115\n"
     ]
    }
   ],
   "source": [
    "avg_cc_list = np.mean(cc_lists, axis=0) # in order\n",
    "print(avg_cc_list.shape)\n",
    "min_cc = np.min(avg_cc_list)\n",
    "print(min_cc)\n",
    "max_cc = np.max(avg_cc_list)\n",
    "print(max_cc)\n",
    "mean_cc = np.mean(avg_cc_list)\n",
    "print(mean_cc)\n",
    "std_cc = np.std(avg_cc_list)\n",
    "print(std_cc)"
   ]
  },
  {
   "cell_type": "code",
   "execution_count": 12,
   "id": "afd618f4",
   "metadata": {},
   "outputs": [
    {
     "name": "stdout",
     "output_type": "stream",
     "text": [
      "362965.0317460318\n"
     ]
    }
   ],
   "source": [
    "avg_num_edges = np.mean([G.number_of_edges() for G in graph_lst])\n",
    "print(avg_num_edges)"
   ]
  },
  {
   "cell_type": "code",
   "execution_count": 14,
   "id": "14af649a",
   "metadata": {},
   "outputs": [
    {
     "name": "stdout",
     "output_type": "stream",
     "text": [
      "(60740,)\n"
     ]
    }
   ],
   "source": [
    "avg_view_list = []\n",
    "for i in range(num_videos):\n",
    "    avg_view_list.append(embed_avg_view_dict[i])\n",
    "avg_view_list = np.array(avg_view_list)\n",
    "print(avg_view_list.shape)"
   ]
  },
  {
   "cell_type": "code",
   "execution_count": 24,
   "id": "ab4daa1c",
   "metadata": {},
   "outputs": [],
   "source": [
    "with open(os.path.join(data_prefix, \"s_avg_view_list_0.pkl\"), 'rb') as fin:\n",
    "        avg_view_list_0 = pickle.load(fin)"
   ]
  },
  {
   "cell_type": "code",
   "execution_count": 30,
   "id": "5c15ddbc",
   "metadata": {},
   "outputs": [],
   "source": [
    "lscc_0 = max(nx.strongly_connected_components(graph_lst[0]), key=len)\n",
    "lscc_avg_view_0 = [embed_avg_view_dict[v] for v in lscc_0]\n",
    "    "
   ]
  },
  {
   "cell_type": "code",
   "execution_count": 36,
   "id": "a41300b0",
   "metadata": {},
   "outputs": [
    {
     "data": {
      "image/png": "[encoded data removed]",
      "text/plain": [
       "<Figure size 864x576 with 1 Axes>"
      ]
     },
     "metadata": {
      "needs_background": "light"
     },
     "output_type": "display_data"
    }
   ],
   "source": [
    "# usable\n",
    "fig, ax1 = plt.subplots(figsize=(12,8))\n",
    "plot_ccdf(avg_view_list, ax=ax1, label='all videos' ,color=ColorPalette.CC4[0])\n",
    "plot_ccdf(avg_view_list_0, ax=ax1, label='videos cutoff by strong bridges',color=ColorPalette.CC4[1])\n",
    "plot_ccdf(lscc_avg_view_0, ax=ax1, label='videos in LSCC', color=ColorPalette.CC4[2])\n",
    "\n",
    "ax1.vlines(np.mean(avg_view_list), 0, 1, linestyle='dashed', color=ColorPalette.CC4[0], label='mean for all videos: {:.1f}'.format(np.mean(avg_view_list)))\n",
    "ax1.vlines(np.mean(avg_view_list_0), 0, 1, linestyle='dashed',color=ColorPalette.CC4[1], label='mean for videos cutoff: {:.1f}'.format(np.mean(avg_view_list_0)))\n",
    "ax1.vlines(np.mean(lscc_avg_view_0), 0, 1, linestyle='dashed', color=ColorPalette.CC4[2], label='mean for in LSCC: {:.1f}'.format(np.mean(lscc_avg_view_0)))\n",
    "ax1.set_xscale('log')\n",
    "ax1.set_yscale('log')\n",
    "ax1.set_xlabel('Average views', fontsize=11)\n",
    "ax1.set_ylabel('$P(X) \\geq x$', fontsize=11)\n",
    "ax1.tick_params(axis='both', which='major', labelsize=10)\n",
    "ax1.set_title('Average views distribution', fontsize=12)\n",
    "ax1.legend(frameon=False, fontsize=11, ncol=1, fancybox=False, shadow=True)\n",
    "\n",
    "plt.show()"
   ]
  },
  {
   "cell_type": "code",
   "execution_count": 14,
   "id": "8ed3b3bb",
   "metadata": {},
   "outputs": [
    {
     "name": "stdout",
     "output_type": "stream",
     "text": [
      "(0.535981654161106, 0.0)\n",
      "(-0.09486011659291047, 2.06011975451955e-121)\n",
      "(-0.17915160526862905, 0.0)\n"
     ]
    }
   ],
   "source": [
    "print(pearsonr(avg_view_list, avg_ind_list))\n",
    "print(pearsonr(avg_view_list, avg_cc_list))\n",
    "print(pearsonr(avg_ind_list, avg_cc_list))"
   ]
  },
  {
   "cell_type": "code",
   "execution_count": 81,
   "id": "28ba34f0",
   "metadata": {},
   "outputs": [
    {
     "data": {
      "text/html": [
       "<table class=\"simpletable\">\n",
       "<caption>OLS Regression Results</caption>\n",
       "<tr>\n",
       "  <th>Dep. Variable:</th>            <td>y</td>        <th>  R-squared:         </th>  <td>   0.287</td>  \n",
       "</tr>\n",
       "<tr>\n",
       "  <th>Model:</th>                   <td>OLS</td>       <th>  Adj. R-squared:    </th>  <td>   0.287</td>  \n",
       "</tr>\n",
       "<tr>\n",
       "  <th>Method:</th>             <td>Least Squares</td>  <th>  F-statistic:       </th>  <td>1.224e+04</td> \n",
       "</tr>\n",
       "<tr>\n",
       "  <th>Date:</th>             <td>Wed, 26 May 2021</td> <th>  Prob (F-statistic):</th>   <td>  0.00</td>   \n",
       "</tr>\n",
       "<tr>\n",
       "  <th>Time:</th>                 <td>20:19:45</td>     <th>  Log-Likelihood:    </th> <td>-7.3591e+05</td>\n",
       "</tr>\n",
       "<tr>\n",
       "  <th>No. Observations:</th>      <td> 60740</td>      <th>  AIC:               </th>  <td>1.472e+06</td> \n",
       "</tr>\n",
       "<tr>\n",
       "  <th>Df Residuals:</th>          <td> 60737</td>      <th>  BIC:               </th>  <td>1.472e+06</td> \n",
       "</tr>\n",
       "<tr>\n",
       "  <th>Df Model:</th>              <td>     2</td>      <th>                     </th>      <td> </td>     \n",
       "</tr>\n",
       "<tr>\n",
       "  <th>Covariance Type:</th>      <td>nonrobust</td>    <th>                     </th>      <td> </td>     \n",
       "</tr>\n",
       "</table>\n",
       "<table class=\"simpletable\">\n",
       "<tr>\n",
       "    <td></td>       <th>coef</th>     <th>std err</th>      <th>t</th>      <th>P>|t|</th>  <th>[0.025</th>    <th>0.975]</th>  \n",
       "</tr>\n",
       "<tr>\n",
       "  <th>const</th> <td>-3047.4481</td> <td>  321.338</td> <td>   -9.484</td> <td> 0.000</td> <td>-3677.272</td> <td>-2417.624</td>\n",
       "</tr>\n",
       "<tr>\n",
       "  <th>x1</th>    <td> 1348.2420</td> <td>    8.755</td> <td>  153.995</td> <td> 0.000</td> <td> 1331.082</td> <td> 1365.402</td>\n",
       "</tr>\n",
       "<tr>\n",
       "  <th>x2</th>    <td>  593.2478</td> <td> 1720.811</td> <td>    0.345</td> <td> 0.730</td> <td>-2779.547</td> <td> 3966.043</td>\n",
       "</tr>\n",
       "</table>\n",
       "<table class=\"simpletable\">\n",
       "<tr>\n",
       "  <th>Omnibus:</th>       <td>208207.474</td> <th>  Durbin-Watson:     </th>     <td>   2.000</td>    \n",
       "</tr>\n",
       "<tr>\n",
       "  <th>Prob(Omnibus):</th>   <td> 0.000</td>   <th>  Jarque-Bera (JB):  </th> <td>125245074090.381</td>\n",
       "</tr>\n",
       "<tr>\n",
       "  <th>Skew:</th>            <td>63.673</td>   <th>  Prob(JB):          </th>     <td>    0.00</td>    \n",
       "</tr>\n",
       "<tr>\n",
       "  <th>Kurtosis:</th>       <td>7036.595</td>  <th>  Cond. No.          </th>     <td>    210.</td>    \n",
       "</tr>\n",
       "</table><br/><br/>Notes:<br/>[1] Standard Errors assume that the covariance matrix of the errors is correctly specified."
      ],
      "text/plain": [
       "<class 'statsmodels.iolib.summary.Summary'>\n",
       "\"\"\"\n",
       "                            OLS Regression Results                            \n",
       "==============================================================================\n",
       "Dep. Variable:                      y   R-squared:                       0.287\n",
       "Model:                            OLS   Adj. R-squared:                  0.287\n",
       "Method:                 Least Squares   F-statistic:                 1.224e+04\n",
       "Date:                Wed, 26 May 2021   Prob (F-statistic):               0.00\n",
       "Time:                        20:19:45   Log-Likelihood:            -7.3591e+05\n",
       "No. Observations:               60740   AIC:                         1.472e+06\n",
       "Df Residuals:                   60737   BIC:                         1.472e+06\n",
       "Df Model:                           2                                         \n",
       "Covariance Type:            nonrobust                                         \n",
       "==============================================================================\n",
       "                 coef    std err          t      P>|t|      [0.025      0.975]\n",
       "------------------------------------------------------------------------------\n",
       "const      -3047.4481    321.338     -9.484      0.000   -3677.272   -2417.624\n",
       "x1          1348.2420      8.755    153.995      0.000    1331.082    1365.402\n",
       "x2           593.2478   1720.811      0.345      0.730   -2779.547    3966.043\n",
       "==============================================================================\n",
       "Omnibus:                   208207.474   Durbin-Watson:                   2.000\n",
       "Prob(Omnibus):                  0.000   Jarque-Bera (JB):     125245074090.381\n",
       "Skew:                          63.673   Prob(JB):                         0.00\n",
       "Kurtosis:                    7036.595   Cond. No.                         210.\n",
       "==============================================================================\n",
       "\n",
       "Notes:\n",
       "[1] Standard Errors assume that the covariance matrix of the errors is correctly specified.\n",
       "\"\"\""
      ]
     },
     "execution_count": 81,
     "metadata": {},
     "output_type": "execute_result"
    }
   ],
   "source": [
    "ind_cc = np.stack((avg_ind_list, avg_cc_list), axis=-1)\n",
    "ind_cc_X = sm.add_constant(ind_cc)\n",
    "model = sm.OLS(avg_view_list,ind_cc_X)\n",
    "results = model.fit()\n",
    "results.summary()"
   ]
  },
  {
   "cell_type": "code",
   "execution_count": 75,
   "id": "d23d7ddb",
   "metadata": {},
   "outputs": [],
   "source": [
    "np.stack?"
   ]
  },
  {
   "cell_type": "code",
   "execution_count": 15,
   "id": "855a087e",
   "metadata": {},
   "outputs": [],
   "source": [
    "vid_by_genres = defaultdict(list)"
   ]
  },
  {
   "cell_type": "code",
   "execution_count": 16,
   "id": "71885bb1",
   "metadata": {},
   "outputs": [
    {
     "name": "stdout",
     "output_type": "stream",
     "text": [
      "[('Hip_hop_music', 10850), ('Pop_music', 22587), ('Soul_music', 4341), ('Rock_music', 14662), ('Independent_music', 7250), ('Country_music', 4398), ('Electronic_music', 4461), ('NoInfo', 7582)]\n"
     ]
    }
   ],
   "source": [
    "for i in range(num_videos):\n",
    "    if len(embed_genre_dict[i]) == 0:\n",
    "        vid_by_genres[\"NoInfo\"].append(i)\n",
    "    else:\n",
    "        for j in embed_genre_dict[i]:\n",
    "            vid_by_genres[j].append(i)\n",
    "print([(k, len(v)) for k, v in vid_by_genres.items()])"
   ]
  },
  {
   "cell_type": "code",
   "execution_count": 27,
   "id": "30111125",
   "metadata": {},
   "outputs": [],
   "source": [
    "topics = ['Pop_music', 'Rock_music', 'Hip_hop_music', 'Independent_music',\n",
    "                    'Country_music', 'Electronic_music', 'Soul_music', 'Others']\n",
    "avg_view_topic = []\n",
    "avg_cc_topic = []\n",
    "avg_ind_topic = []\n",
    "for i in topics:\n",
    "    avg_view_topic.append(np.mean(avg_view_list[vid_by_genres[i]]))\n",
    "    avg_cc_topic.append(np.mean(avg_cc_list[vid_by_genres[i]]))\n",
    "    avg_ind_topic.append(np.mean(avg_ind_list[vid_by_genres[i]]))\n"
   ]
  },
  {
   "cell_type": "code",
   "execution_count": 24,
   "id": "ecab3a42",
   "metadata": {
    "collapsed": true
   },
   "outputs": [
    {
     "data": {
      "text/plain": [
       "<BarContainer object of 8 artists>"
      ]
     },
     "execution_count": 24,
     "metadata": {},
     "output_type": "execute_result"
    },
    {
     "data": {
      "image/png": "[encoded data removed]",
      "text/plain": [
       "<Figure size 864x576 with 1 Axes>"
      ]
     },
     "metadata": {
      "needs_background": "light"
     },
     "output_type": "display_data"
    }
   ],
   "source": [
    "plt.figure(figsize=(12, 8))\n",
    "plt.bar(topics, avg_view_topic)"
   ]
  },
  {
   "cell_type": "code",
   "execution_count": 28,
   "id": "1df13284",
   "metadata": {
    "collapsed": true
   },
   "outputs": [
    {
     "data": {
      "text/plain": [
       "<BarContainer object of 8 artists>"
      ]
     },
     "execution_count": 28,
     "metadata": {},
     "output_type": "execute_result"
    },
    {
     "data": {
      "image/png": "[encoded data removed]",
      "text/plain": [
       "<Figure size 864x576 with 1 Axes>"
      ]
     },
     "metadata": {
      "needs_background": "light"
     },
     "output_type": "display_data"
    }
   ],
   "source": [
    "plt.figure(figsize=(12, 8))\n",
    "plt.bar(topics, avg_ind_topic)"
   ]
  },
  {
   "cell_type": "code",
   "execution_count": 29,
   "id": "35b70569",
   "metadata": {
    "collapsed": true
   },
   "outputs": [
    {
     "data": {
      "text/plain": [
       "<BarContainer object of 8 artists>"
      ]
     },
     "execution_count": 29,
     "metadata": {},
     "output_type": "execute_result"
    },
    {
     "data": {
      "image/png": "[encoded data removed]",
      "text/plain": [
       "<Figure size 864x576 with 1 Axes>"
      ]
     },
     "metadata": {
      "needs_background": "light"
     },
     "output_type": "display_data"
    }
   ],
   "source": [
    "plt.figure(figsize=(12, 8))\n",
    "plt.bar(topics, avg_cc_topic)"
   ]
  },
  {
   "cell_type": "code",
   "execution_count": 59,
   "id": "3c260b92",
   "metadata": {},
   "outputs": [
    {
     "name": "stdout",
     "output_type": "stream",
     "text": [
      "['Pop_music', 'Electronic_music', 'Rhythm_and_blues', 'Country_music', 'Soul_music', 'Reggae', 'Independent_music', 'Rock_music', 'Hip_hop_music', 'Music_of_Latin_America', 'Military', 'Jazz', 'Television_program', 'Christian_music', 'Music_of_Asia', 'Classical_music', 'Entertainment', 'Performing_arts', 'Film']\n",
      "['Pop_music', 'Electronic_music', 'Rhythm_and_blues', 'Country_music', 'Soul_music', 'Reggae', 'Independent_music', 'Rock_music', 'Hip_hop_music', 'Jazz', 'Christian_music', 'Classical_music']\n"
     ]
    }
   ],
   "source": [
    "all_topics = []\n",
    "for i in embed_all_genre_dict.values():\n",
    "    for j in i:\n",
    "        if j not in all_topics:\n",
    "            all_topics.append(j)\n",
    "print(all_topics)\n",
    "for i in ['Television_program', 'Military', 'Entertainment', 'Performing_arts', 'Film','Music_of_Asia', 'Music_of_Latin_America']:\n",
    "    all_topics.remove(i)\n",
    "print(all_topics)"
   ]
  },
  {
   "cell_type": "code",
   "execution_count": 32,
   "id": "0a1e6ae1",
   "metadata": {},
   "outputs": [
    {
     "name": "stdout",
     "output_type": "stream",
     "text": [
      "[('Hip_hop_music', 10850), ('Pop_music', 22587), ('Rhythm_and_blues', 3926), ('Soul_music', 4341), ('Rock_music', 14662), ('Independent_music', 7250), ('Country_music', 4398), ('Electronic_music', 4461), ('NoInfo', 4357), ('Christian_music', 2866), ('Reggae', 362), ('Jazz', 878), ('Music_of_Latin_America', 366), ('Classical_music', 272), ('Television_program', 152), ('Military', 31), ('Entertainment', 4), ('Performing_arts', 2), ('Music_of_Asia', 21), ('Film', 1)]\n"
     ]
    }
   ],
   "source": [
    "vid_by_all_genres = defaultdict(list)\n",
    "for i in range(num_videos):\n",
    "    if len(embed_all_genre_dict[i]) == 0:\n",
    "        vid_by_all_genres[\"NoInfo\"].append(i)\n",
    "    else:\n",
    "        for j in embed_all_genre_dict[i]:\n",
    "            vid_by_all_genres[j].append(i)\n",
    "print([(k, len(v)) for k, v in vid_by_all_genres.items()])"
   ]
  },
  {
   "cell_type": "code",
   "execution_count": 60,
   "id": "c17d147e",
   "metadata": {},
   "outputs": [],
   "source": [
    "avg_view_topic = []\n",
    "avg_cc_topic = []\n",
    "avg_ind_topic = []\n",
    "for i in all_topics:\n",
    "    avg_view_topic.append(np.mean(avg_view_list[vid_by_all_genres[i]]))\n",
    "    avg_cc_topic.append(np.mean(avg_cc_list[vid_by_all_genres[i]]))\n",
    "    avg_ind_topic.append(np.mean(avg_ind_list[vid_by_all_genres[i]]))\n",
    "avg_view_topic = np.array(avg_view_topic)\n",
    "avg_ind_topic = np.array(avg_ind_topic)\n",
    "avg_cc_topic = np.array(avg_cc_topic)\n"
   ]
  },
  {
   "cell_type": "code",
   "execution_count": 83,
   "id": "c3675bcd",
   "metadata": {},
   "outputs": [
    {
     "data": {
      "text/plain": [
       "Text(0.5, 0, 'Average views')"
      ]
     },
     "execution_count": 83,
     "metadata": {},
     "output_type": "execute_result"
    },
    {
     "data": {
      "image/png": "[encoded data removed]",
      "text/plain": [
       "<Figure size 720x360 with 1 Axes>"
      ]
     },
     "metadata": {
      "needs_background": "light"
     },
     "output_type": "display_data"
    }
   ],
   "source": [
    "plt.figure(figsize=(10, 5))\n",
    "all_topics = np.array(all_topics)\n",
    "ind_sort = np.argsort(avg_view_topic)\n",
    "avg_view_topic_sorted = avg_view_topic[ind_sort]\n",
    "all_topics_sorted = all_topics[ind_sort]\n",
    "plt.barh(all_topics_sorted, avg_view_topic_sorted)\n",
    "plt.xlabel(\"Average views\")"
   ]
  },
  {
   "cell_type": "code",
   "execution_count": 62,
   "id": "1f7c9b57",
   "metadata": {},
   "outputs": [
    {
     "data": {
      "text/plain": [
       "array(['Classical_music', 'Jazz', 'Christian_music', 'Independent_music',\n",
       "       'Country_music', 'Rock_music', 'Hip_hop_music', 'Rhythm_and_blues',\n",
       "       'Soul_music', 'Electronic_music', 'Pop_music', 'Reggae'],\n",
       "      dtype='<U17')"
      ]
     },
     "execution_count": 62,
     "metadata": {},
     "output_type": "execute_result"
    }
   ],
   "source": [
    "all_topics_sorted"
   ]
  },
  {
   "cell_type": "code",
   "execution_count": 68,
   "id": "6eb51cf0",
   "metadata": {},
   "outputs": [],
   "source": [
    "mainstream = set()\n",
    "niche = set()\n",
    "for i in ['Hip_hop_music', 'Rhythm_and_blues', 'Soul_music', 'Electronic_music', 'Pop_music', 'Reggae']:\n",
    "    mainstream = mainstream.union(set(vid_by_all_genres[i]))\n",
    "for i in ['Classical_music', 'Jazz', 'Christian_music', 'Independent_music', 'Country_music', 'Rock_music']:\n",
    "    niche = niche.union(set(vid_by_all_genres[i]))\n"
   ]
  },
  {
   "cell_type": "code",
   "execution_count": 69,
   "id": "edd2162f",
   "metadata": {},
   "outputs": [
    {
     "name": "stdout",
     "output_type": "stream",
     "text": [
      "35615\n",
      "26844\n"
     ]
    }
   ],
   "source": [
    "print(len(mainstream))\n",
    "print(len(niche))"
   ]
  },
  {
   "cell_type": "code",
   "execution_count": 70,
   "id": "f1a7da06",
   "metadata": {},
   "outputs": [
    {
     "name": "stdout",
     "output_type": "stream",
     "text": [
      "[7047.293781601742, 3252.6267422828664] [0.13358531593227815, 0.15685447655322599] [6.785070941662266, 5.946998294673753]\n"
     ]
    }
   ],
   "source": [
    "avg_view_p = []\n",
    "avg_cc_p = []\n",
    "avg_ind_p = []\n",
    "for i in [mainstream, niche]:\n",
    "    avg_view_p.append(np.mean(avg_view_list[list(i)]))\n",
    "    avg_cc_p.append(np.mean(avg_cc_list[list(i)]))\n",
    "    avg_ind_p.append(np.mean(avg_ind_list[list(i)]))\n",
    "print(avg_view_p, avg_cc_p, avg_ind_p)"
   ]
  },
  {
   "cell_type": "code",
   "execution_count": 93,
   "id": "bef31cca",
   "metadata": {},
   "outputs": [
    {
     "data": {
      "text/plain": [
       "Ttest_indResult(statistic=9.451480232320236, pvalue=3.451503860150913e-21)"
      ]
     },
     "execution_count": 93,
     "metadata": {},
     "output_type": "execute_result"
    }
   ],
   "source": [
    "scipy.stats.ttest_ind(avg_view_list[list(mainstream)],avg_view_list[list(niche)])"
   ]
  },
  {
   "cell_type": "code",
   "execution_count": 91,
   "id": "8a070674",
   "metadata": {},
   "outputs": [
    {
     "data": {
      "text/plain": [
       "Ttest_indResult(statistic=4.720833678126951, pvalue=2.3538855465617835e-06)"
      ]
     },
     "execution_count": 91,
     "metadata": {},
     "output_type": "execute_result"
    }
   ],
   "source": [
    "scipy.stats.ttest_ind(avg_ind_list[list(mainstream)],avg_ind_list[list(niche)])"
   ]
  },
  {
   "cell_type": "code",
   "execution_count": 92,
   "id": "a3d6a1f9",
   "metadata": {},
   "outputs": [
    {
     "data": {
      "text/plain": [
       "Ttest_indResult(statistic=-28.17656121131, pvalue=1.3916341706698769e-173)"
      ]
     },
     "execution_count": 92,
     "metadata": {},
     "output_type": "execute_result"
    }
   ],
   "source": [
    "scipy.stats.ttest_ind(avg_cc_list[list(mainstream)],avg_cc_list[list(niche)])"
   ]
  },
  {
   "cell_type": "code",
   "execution_count": 94,
   "id": "2f8f20af",
   "metadata": {},
   "outputs": [
    {
     "data": {
      "text/plain": [
       "6197"
      ]
     },
     "execution_count": 94,
     "metadata": {},
     "output_type": "execute_result"
    }
   ],
   "source": [
    "len(mainstream.intersection(niche))"
   ]
  },
  {
   "cell_type": "code",
   "execution_count": 96,
   "id": "bf5ba716",
   "metadata": {},
   "outputs": [
    {
     "name": "stdout",
     "output_type": "stream",
     "text": [
      "(60740, 3)\n"
     ]
    },
    {
     "data": {
      "text/html": [
       "<table class=\"simpletable\">\n",
       "<caption>OLS Regression Results</caption>\n",
       "<tr>\n",
       "  <th>Dep. Variable:</th>            <td>y</td>        <th>  R-squared:         </th>  <td>   0.288</td>  \n",
       "</tr>\n",
       "<tr>\n",
       "  <th>Model:</th>                   <td>OLS</td>       <th>  Adj. R-squared:    </th>  <td>   0.288</td>  \n",
       "</tr>\n",
       "<tr>\n",
       "  <th>Method:</th>             <td>Least Squares</td>  <th>  F-statistic:       </th>  <td>   8198.</td>  \n",
       "</tr>\n",
       "<tr>\n",
       "  <th>Date:</th>             <td>Wed, 26 May 2021</td> <th>  Prob (F-statistic):</th>   <td>  0.00</td>   \n",
       "</tr>\n",
       "<tr>\n",
       "  <th>Time:</th>                 <td>20:55:50</td>     <th>  Log-Likelihood:    </th> <td>-7.3587e+05</td>\n",
       "</tr>\n",
       "<tr>\n",
       "  <th>No. Observations:</th>      <td> 60740</td>      <th>  AIC:               </th>  <td>1.472e+06</td> \n",
       "</tr>\n",
       "<tr>\n",
       "  <th>Df Residuals:</th>          <td> 60736</td>      <th>  BIC:               </th>  <td>1.472e+06</td> \n",
       "</tr>\n",
       "<tr>\n",
       "  <th>Df Model:</th>              <td>     3</td>      <th>                     </th>      <td> </td>     \n",
       "</tr>\n",
       "<tr>\n",
       "  <th>Covariance Type:</th>      <td>nonrobust</td>    <th>                     </th>      <td> </td>     \n",
       "</tr>\n",
       "</table>\n",
       "<table class=\"simpletable\">\n",
       "<tr>\n",
       "    <td></td>       <th>coef</th>     <th>std err</th>      <th>t</th>      <th>P>|t|</th>  <th>[0.025</th>    <th>0.975]</th>  \n",
       "</tr>\n",
       "<tr>\n",
       "  <th>const</th> <td>-1809.0965</td> <td>  349.220</td> <td>   -5.180</td> <td> 0.000</td> <td>-2493.569</td> <td>-1124.624</td>\n",
       "</tr>\n",
       "<tr>\n",
       "  <th>x1</th>    <td> 1349.3908</td> <td>    8.750</td> <td>  154.212</td> <td> 0.000</td> <td> 1332.240</td> <td> 1366.541</td>\n",
       "</tr>\n",
       "<tr>\n",
       "  <th>x2</th>    <td> 1958.4780</td> <td> 1726.315</td> <td>    1.134</td> <td> 0.257</td> <td>-1425.105</td> <td> 5342.061</td>\n",
       "</tr>\n",
       "<tr>\n",
       "  <th>x3</th>    <td>-3270.2973</td> <td>  362.411</td> <td>   -9.024</td> <td> 0.000</td> <td>-3980.624</td> <td>-2559.971</td>\n",
       "</tr>\n",
       "</table>\n",
       "<table class=\"simpletable\">\n",
       "<tr>\n",
       "  <th>Omnibus:</th>       <td>208257.508</td> <th>  Durbin-Watson:     </th>     <td>   2.000</td>    \n",
       "</tr>\n",
       "<tr>\n",
       "  <th>Prob(Omnibus):</th>   <td> 0.000</td>   <th>  Jarque-Bera (JB):  </th> <td>125531292065.944</td>\n",
       "</tr>\n",
       "<tr>\n",
       "  <th>Skew:</th>            <td>63.718</td>   <th>  Prob(JB):          </th>     <td>    0.00</td>    \n",
       "</tr>\n",
       "<tr>\n",
       "  <th>Kurtosis:</th>       <td>7044.629</td>  <th>  Cond. No.          </th>     <td>    211.</td>    \n",
       "</tr>\n",
       "</table><br/><br/>Notes:<br/>[1] Standard Errors assume that the covariance matrix of the errors is correctly specified."
      ],
      "text/plain": [
       "<class 'statsmodels.iolib.summary.Summary'>\n",
       "\"\"\"\n",
       "                            OLS Regression Results                            \n",
       "==============================================================================\n",
       "Dep. Variable:                      y   R-squared:                       0.288\n",
       "Model:                            OLS   Adj. R-squared:                  0.288\n",
       "Method:                 Least Squares   F-statistic:                     8198.\n",
       "Date:                Wed, 26 May 2021   Prob (F-statistic):               0.00\n",
       "Time:                        20:55:50   Log-Likelihood:            -7.3587e+05\n",
       "No. Observations:               60740   AIC:                         1.472e+06\n",
       "Df Residuals:                   60736   BIC:                         1.472e+06\n",
       "Df Model:                           3                                         \n",
       "Covariance Type:            nonrobust                                         \n",
       "==============================================================================\n",
       "                 coef    std err          t      P>|t|      [0.025      0.975]\n",
       "------------------------------------------------------------------------------\n",
       "const      -1809.0965    349.220     -5.180      0.000   -2493.569   -1124.624\n",
       "x1          1349.3908      8.750    154.212      0.000    1332.240    1366.541\n",
       "x2          1958.4780   1726.315      1.134      0.257   -1425.105    5342.061\n",
       "x3         -3270.2973    362.411     -9.024      0.000   -3980.624   -2559.971\n",
       "==============================================================================\n",
       "Omnibus:                   208257.508   Durbin-Watson:                   2.000\n",
       "Prob(Omnibus):                  0.000   Jarque-Bera (JB):     125531292065.944\n",
       "Skew:                          63.718   Prob(JB):                         0.00\n",
       "Kurtosis:                    7044.629   Cond. No.                         211.\n",
       "==============================================================================\n",
       "\n",
       "Notes:\n",
       "[1] Standard Errors assume that the covariance matrix of the errors is correctly specified.\n",
       "\"\"\""
      ]
     },
     "execution_count": 96,
     "metadata": {},
     "output_type": "execute_result"
    }
   ],
   "source": [
    "def in_one(vid):\n",
    "    if vid in niche:\n",
    "        return 1\n",
    "    else:\n",
    "        return 0\n",
    "niche_indicators= [in_one(i) for i in range(num_videos)]\n",
    "ind_cc_n = np.stack((avg_ind_list, avg_cc_list, niche_indicators), axis=-1)\n",
    "print(ind_cc_n.shape)\n",
    "ind_cc_n_X = sm.add_constant(ind_cc_n)\n",
    "model = sm.OLS(avg_view_list,ind_cc_n_X)\n",
    "results = model.fit()\n",
    "results.summary()"
   ]
  },
  {
   "cell_type": "code",
   "execution_count": 97,
   "id": "281a1d06",
   "metadata": {},
   "outputs": [
    {
     "name": "stdout",
     "output_type": "stream",
     "text": [
      "(60740, 3)\n"
     ]
    },
    {
     "data": {
      "text/html": [
       "<table class=\"simpletable\">\n",
       "<caption>OLS Regression Results</caption>\n",
       "<tr>\n",
       "  <th>Dep. Variable:</th>            <td>y</td>        <th>  R-squared:         </th>  <td>   0.001</td>  \n",
       "</tr>\n",
       "<tr>\n",
       "  <th>Model:</th>                   <td>OLS</td>       <th>  Adj. R-squared:    </th>  <td>   0.001</td>  \n",
       "</tr>\n",
       "<tr>\n",
       "  <th>Method:</th>             <td>Least Squares</td>  <th>  F-statistic:       </th>  <td>   59.66</td>  \n",
       "</tr>\n",
       "<tr>\n",
       "  <th>Date:</th>             <td>Wed, 26 May 2021</td> <th>  Prob (F-statistic):</th>  <td>1.14e-14</td>  \n",
       "</tr>\n",
       "<tr>\n",
       "  <th>Time:</th>                 <td>20:57:09</td>     <th>  Log-Likelihood:    </th> <td>-7.4617e+05</td>\n",
       "</tr>\n",
       "<tr>\n",
       "  <th>No. Observations:</th>      <td> 60740</td>      <th>  AIC:               </th>  <td>1.492e+06</td> \n",
       "</tr>\n",
       "<tr>\n",
       "  <th>Df Residuals:</th>          <td> 60738</td>      <th>  BIC:               </th>  <td>1.492e+06</td> \n",
       "</tr>\n",
       "<tr>\n",
       "  <th>Df Model:</th>              <td>     1</td>      <th>                     </th>      <td> </td>     \n",
       "</tr>\n",
       "<tr>\n",
       "  <th>Covariance Type:</th>      <td>nonrobust</td>    <th>                     </th>      <td> </td>     \n",
       "</tr>\n",
       "</table>\n",
       "<table class=\"simpletable\">\n",
       "<tr>\n",
       "    <td></td>       <th>coef</th>     <th>std err</th>      <th>t</th>      <th>P>|t|</th>  <th>[0.025</th>    <th>0.975]</th>  \n",
       "</tr>\n",
       "<tr>\n",
       "  <th>const</th> <td> 6556.2416</td> <td>  284.330</td> <td>   23.059</td> <td> 0.000</td> <td> 5998.953</td> <td> 7113.530</td>\n",
       "</tr>\n",
       "<tr>\n",
       "  <th>x1</th>    <td>-3303.6149</td> <td>  427.698</td> <td>   -7.724</td> <td> 0.000</td> <td>-4141.904</td> <td>-2465.326</td>\n",
       "</tr>\n",
       "</table>\n",
       "<table class=\"simpletable\">\n",
       "<tr>\n",
       "  <th>Omnibus:</th>       <td>205399.398</td> <th>  Durbin-Watson:     </th>     <td>   2.005</td>    \n",
       "</tr>\n",
       "<tr>\n",
       "  <th>Prob(Omnibus):</th>   <td> 0.000</td>   <th>  Jarque-Bera (JB):  </th> <td>112429098106.445</td>\n",
       "</tr>\n",
       "<tr>\n",
       "  <th>Skew:</th>            <td>61.166</td>   <th>  Prob(JB):          </th>     <td>    0.00</td>    \n",
       "</tr>\n",
       "<tr>\n",
       "  <th>Kurtosis:</th>       <td>6666.991</td>  <th>  Cond. No.          </th>     <td>    2.50</td>    \n",
       "</tr>\n",
       "</table><br/><br/>Notes:<br/>[1] Standard Errors assume that the covariance matrix of the errors is correctly specified."
      ],
      "text/plain": [
       "<class 'statsmodels.iolib.summary.Summary'>\n",
       "\"\"\"\n",
       "                            OLS Regression Results                            \n",
       "==============================================================================\n",
       "Dep. Variable:                      y   R-squared:                       0.001\n",
       "Model:                            OLS   Adj. R-squared:                  0.001\n",
       "Method:                 Least Squares   F-statistic:                     59.66\n",
       "Date:                Wed, 26 May 2021   Prob (F-statistic):           1.14e-14\n",
       "Time:                        20:57:09   Log-Likelihood:            -7.4617e+05\n",
       "No. Observations:               60740   AIC:                         1.492e+06\n",
       "Df Residuals:                   60738   BIC:                         1.492e+06\n",
       "Df Model:                           1                                         \n",
       "Covariance Type:            nonrobust                                         \n",
       "==============================================================================\n",
       "                 coef    std err          t      P>|t|      [0.025      0.975]\n",
       "------------------------------------------------------------------------------\n",
       "const       6556.2416    284.330     23.059      0.000    5998.953    7113.530\n",
       "x1         -3303.6149    427.698     -7.724      0.000   -4141.904   -2465.326\n",
       "==============================================================================\n",
       "Omnibus:                   205399.398   Durbin-Watson:                   2.005\n",
       "Prob(Omnibus):                  0.000   Jarque-Bera (JB):     112429098106.445\n",
       "Skew:                          61.166   Prob(JB):                         0.00\n",
       "Kurtosis:                    6666.991   Cond. No.                         2.50\n",
       "==============================================================================\n",
       "\n",
       "Notes:\n",
       "[1] Standard Errors assume that the covariance matrix of the errors is correctly specified.\n",
       "\"\"\""
      ]
     },
     "execution_count": 97,
     "metadata": {},
     "output_type": "execute_result"
    }
   ],
   "source": [
    "niche_indicators= [in_one(i) for i in range(num_videos)]\n",
    "# ind_cc_n = np.stack((avg_ind_list, avg_cc_list, niche_indicators), axis=-1)\n",
    "print(ind_cc_n.shape)\n",
    "n_X = sm.add_constant(niche_indicators)\n",
    "model = sm.OLS(avg_view_list,n_X)\n",
    "results = model.fit()\n",
    "results.summary()"
   ]
  },
  {
   "cell_type": "code",
   "execution_count": 40,
   "id": "70a3e9d2",
   "metadata": {},
   "outputs": [
    {
     "name": "stdout",
     "output_type": "stream",
     "text": [
      "13710\n"
     ]
    }
   ],
   "source": [
    "embed_ratio_dict = {}\n",
    "embed_predict_dict = {}\n",
    "embed_incoming_dict = {}\n",
    "embed_weight_dict = {}\n",
    "with open(os.path.join('models', 'forecast_tracker_all.json'), 'r') as fin:\n",
    "    for line in fin:\n",
    "        result_json = json.loads(line.rstrip())\n",
    "        tar_embed = result_json['embed']\n",
    "        embed_predict_dict[tar_embed] = result_json['arnet_pred']\n",
    "        embed_incoming_dict[tar_embed] = result_json[\"incoming_embeds\"]\n",
    "        embed_weight_dict[tar_embed] = result_json[\"link_weights\"]\n",
    "        net_ratio = result_json['net_ratio']\n",
    "        embed_ratio_dict[tar_embed] = net_ratio\n",
    "\n",
    "print(len(embed_ratio_dict.keys()))"
   ]
  },
  {
   "cell_type": "code",
   "execution_count": 41,
   "id": "73678572",
   "metadata": {},
   "outputs": [
    {
     "ename": "TypeError",
     "evalue": "can't multiply sequence by non-int of type 'float'",
     "output_type": "error",
     "traceback": [
      "\u001b[1;31m---------------------------------------------------------------------------\u001b[0m",
      "\u001b[1;31mTypeError\u001b[0m                                 Traceback (most recent call last)",
      "\u001b[1;32m<ipython-input-41-f288fd62437f>\u001b[0m in \u001b[0;36m<module>\u001b[1;34m\u001b[0m\n\u001b[1;32m----> 1\u001b[1;33m \u001b[0membed_predict_dict\u001b[0m\u001b[1;33m[\u001b[0m\u001b[1;36m10\u001b[0m\u001b[1;33m]\u001b[0m\u001b[1;33m*\u001b[0m \u001b[0membed_weight_dict\u001b[0m\u001b[1;33m[\u001b[0m\u001b[1;36m10\u001b[0m\u001b[1;33m]\u001b[0m\u001b[1;33m[\u001b[0m\u001b[1;36m0\u001b[0m\u001b[1;33m]\u001b[0m\u001b[1;33m\u001b[0m\u001b[1;33m\u001b[0m\u001b[0m\n\u001b[0m",
      "\u001b[1;31mTypeError\u001b[0m: can't multiply sequence by non-int of type 'float'"
     ]
    }
   ],
   "source": [
    " embed_predict_dict[10]* embed_weight_dict[10][0]"
   ]
  },
  {
   "cell_type": "code",
   "execution_count": 57,
   "id": "f69253fa",
   "metadata": {},
   "outputs": [],
   "source": [
    "def check_ratio(emb):\n",
    "    print(embed_ratio_dict[emb])\n",
    "    s = np.sum(embed_predict_dict[emb])\n",
    "    ss = np.zeros(len(embed_predict_dict[emb]))\n",
    "    for ind, i in enumerate(embed_incoming_dict[emb]):\n",
    "        ss += np.array(embed_view_dict[i][-7:])*embed_weight_dict[emb][ind]\n",
    "\n",
    "    sss = np.sum(ss)\n",
    "    print(sss/s)\n",
    "    return sss/s == embed_ratio_dict[emb]"
   ]
  },
  {
   "cell_type": "code",
   "execution_count": 58,
   "id": "21ebe5da",
   "metadata": {},
   "outputs": [
    {
     "name": "stdout",
     "output_type": "stream",
     "text": [
      "0.15319451761611655\n",
      "0.11231772014677115\n"
     ]
    },
    {
     "data": {
      "text/plain": [
       "False"
      ]
     },
     "execution_count": 58,
     "metadata": {},
     "output_type": "execute_result"
    }
   ],
   "source": [
    "check_ratio(8)"
   ]
  },
  {
   "cell_type": "code",
   "execution_count": 113,
   "id": "c2c23a17",
   "metadata": {},
   "outputs": [
    {
     "name": "stdout",
     "output_type": "stream",
     "text": [
      "0.29399922069344625 0.33108904834451364\n",
      "24527.151819696566 10267.965118331309\n",
      "0.47602785694032834 0.4654611585279098\n"
     ]
    }
   ],
   "source": [
    "m_count = 0\n",
    "n_count = 0\n",
    "m_ratios = []\n",
    "n_ratios = []\n",
    "m_avg_view = 0\n",
    "n_avg_view = 0\n",
    "m_avg_view_no_network = 0\n",
    "n_avg_view_no_network = 0\n",
    "for i in embed_ratio_dict.keys():\n",
    "    if i in mainstream:\n",
    "        m_count+=1\n",
    "        m_ratios.append(embed_ratio_dict[i])\n",
    "        m_avg_view += embed_avg_view_dict[i]\n",
    "        m_avg_view_no_network += embed_avg_view_dict[i]*(1-embed_ratio_dict[i])\n",
    "    if i in niche:\n",
    "        n_count+=1\n",
    "        n_ratios.append(embed_ratio_dict[i])\n",
    "        n_avg_view += embed_avg_view_dict[i]\n",
    "        n_avg_view_no_network += embed_avg_view_dict[i]*(1-embed_ratio_dict[i])\n",
    "m_avg_view_no_network /= m_count\n",
    "n_avg_view_no_network /= n_count\n",
    "m_avg_view /= m_count\n",
    "n_avg_view /= n_count\n",
    "m_ratios_mean = np.mean(m_ratios)\n",
    "n_ratios_mean = np.mean(n_ratios)\n",
    "print(m_ratios_mean, n_ratios_mean)\n",
    "print(m_avg_view, n_avg_view)\n",
    "print((m_avg_view-m_avg_view_no_network)/m_avg_view_no_network, (n_avg_view-n_avg_view_no_network)/n_avg_view_no_network)"
   ]
  },
  {
   "cell_type": "code",
   "execution_count": 116,
   "id": "7285e532",
   "metadata": {},
   "outputs": [
    {
     "data": {
      "text/plain": [
       "Text(0.5, 1.0, 'network contribution for mainstream and niche')"
      ]
     },
     "execution_count": 116,
     "metadata": {},
     "output_type": "execute_result"
    },
    {
     "data": {
      "image/png": "[encoded data removed]",
      "text/plain": [
       "<Figure size 432x288 with 1 Axes>"
      ]
     },
     "metadata": {
      "needs_background": "light"
     },
     "output_type": "display_data"
    }
   ],
   "source": [
    "plt.bar(['mainstream', 'niche'], [m_avg_view_no_network, n_avg_view_no_network], width = 0.35, label='no network')\n",
    "plt.bar(['mainstream', 'niche'], [m_avg_view-m_avg_view_no_network, n_avg_view-n_avg_view_no_network], bottom=[m_avg_view_no_network, n_avg_view_no_network], width = 0.35, label='with network')\n",
    "plt.legend()\n",
    "plt.ylabel(\"average views\")\n",
    "plt.title(\"network contribution for mainstream and niche\")"
   ]
  },
  {
   "cell_type": "code",
   "execution_count": 119,
   "id": "63b9325a",
   "metadata": {},
   "outputs": [
    {
     "ename": "NameError",
     "evalue": "name 'tomato' is not defined",
     "output_type": "error",
     "traceback": [
      "\u001b[1;31m---------------------------------------------------------------------------\u001b[0m",
      "\u001b[1;31mNameError\u001b[0m                                 Traceback (most recent call last)",
      "\u001b[1;32m<ipython-input-119-4cca27ad7fb0>\u001b[0m in \u001b[0;36m<module>\u001b[1;34m\u001b[0m\n\u001b[0;32m     33\u001b[0m \u001b[1;33m\u001b[0m\u001b[0m\n\u001b[0;32m     34\u001b[0m \u001b[0mfig\u001b[0m\u001b[1;33m,\u001b[0m \u001b[0max\u001b[0m \u001b[1;33m=\u001b[0m \u001b[0mplt\u001b[0m\u001b[1;33m.\u001b[0m\u001b[0msubplots\u001b[0m\u001b[1;33m(\u001b[0m\u001b[1;33m)\u001b[0m\u001b[1;33m\u001b[0m\u001b[1;33m\u001b[0m\u001b[0m\n\u001b[1;32m---> 35\u001b[1;33m \u001b[0mred_circle\u001b[0m \u001b[1;33m=\u001b[0m \u001b[0mdict\u001b[0m\u001b[1;33m(\u001b[0m\u001b[0mmarkerfacecolor\u001b[0m\u001b[1;33m=\u001b[0m\u001b[0mtomato\u001b[0m\u001b[1;33m,\u001b[0m \u001b[0mmarker\u001b[0m\u001b[1;33m=\u001b[0m\u001b[1;34m'o'\u001b[0m\u001b[1;33m,\u001b[0m \u001b[0mmarkersize\u001b[0m\u001b[1;33m=\u001b[0m\u001b[1;36m4\u001b[0m\u001b[1;33m)\u001b[0m\u001b[1;33m\u001b[0m\u001b[1;33m\u001b[0m\u001b[0m\n\u001b[0m\u001b[0;32m     36\u001b[0m \u001b[0max\u001b[0m\u001b[1;33m.\u001b[0m\u001b[0mboxplot\u001b[0m\u001b[1;33m(\u001b[0m\u001b[0martist_percentile_mat\u001b[0m\u001b[1;33m,\u001b[0m \u001b[0mshowfliers\u001b[0m\u001b[1;33m=\u001b[0m\u001b[1;32mTrue\u001b[0m\u001b[1;33m,\u001b[0m \u001b[0mwidths\u001b[0m\u001b[1;33m=\u001b[0m\u001b[1;36m0.5\u001b[0m\u001b[1;33m,\u001b[0m \u001b[0mflierprops\u001b[0m\u001b[1;33m=\u001b[0m\u001b[0mred_circle\u001b[0m\u001b[1;33m)\u001b[0m\u001b[1;33m\u001b[0m\u001b[1;33m\u001b[0m\u001b[0m\n\u001b[0;32m     37\u001b[0m \u001b[0max\u001b[0m\u001b[1;33m.\u001b[0m\u001b[0maxhline\u001b[0m\u001b[1;33m(\u001b[0m\u001b[0my\u001b[0m\u001b[1;33m=\u001b[0m\u001b[1;36m0\u001b[0m\u001b[1;33m,\u001b[0m \u001b[0mcolor\u001b[0m\u001b[1;33m=\u001b[0m\u001b[0mcornflower_blue\u001b[0m\u001b[1;33m,\u001b[0m \u001b[0mlinestyle\u001b[0m\u001b[1;33m=\u001b[0m\u001b[1;34m'--'\u001b[0m\u001b[1;33m,\u001b[0m \u001b[0mlw\u001b[0m\u001b[1;33m=\u001b[0m\u001b[1;36m1\u001b[0m\u001b[1;33m,\u001b[0m \u001b[0mzorder\u001b[0m\u001b[1;33m=\u001b[0m\u001b[1;36m0\u001b[0m\u001b[1;33m)\u001b[0m\u001b[1;33m\u001b[0m\u001b[1;33m\u001b[0m\u001b[0m\n",
      "\u001b[1;31mNameError\u001b[0m: name 'tomato' is not defined"
     ]
    },
    {
     "data": {
      "image/png": "[encoded data removed]",
      "text/plain": [
       "<Figure size 432x288 with 1 Axes>"
      ]
     },
     "metadata": {
      "needs_background": "light"
     },
     "output_type": "display_data"
    }
   ],
   "source": [
    "persistent_vids = list(embed_ratio_dict.keys())\n",
    "n_vids = []\n",
    "m_vids = []\n",
    "n_no_network = []\n",
    "n_with_network = []\n",
    "m_no_network = []\n",
    "m_with_network = []\n",
    "mn_no_network = []\n",
    "mn_with_network = []\n",
    "for i in persistent_vids:\n",
    "    mn_no_network.append(embed_avg_view_dict[i]*(1-embed_ratio_dict[i]))\n",
    "    mn_with_network.append(embed_avg_view_dict[i])\n",
    "    if i in mainstream:\n",
    "        m_vids.append(i)\n",
    "        m_with_network.append(embed_avg_view_dict[i])\n",
    "        m_no_network.append(embed_avg_view_dict[i]*(1-embed_ratio_dict[i]))\n",
    "    if i in niche:\n",
    "        n_vids.append(i)\n",
    "        n_with_network.append(embed_avg_view_dict[i])\n",
    "        n_no_network.append(embed_avg_view_dict[i]*(1-embed_ratio_dict[i]))\n",
    "\n",
    "n_no_network_perc = [percentileofscore(mn_no_network, i) for i in n_no_network]\n",
    "n_with_network_perc = [percentileofscore(mn_with_network, i) for i in n_with_network]\n",
    "m_no_network_perc = [percentileofscore(mn_no_network, i) for i in m_no_network]\n",
    "m_with_network_perc = [percentileofscore(mn_with_network, i) for i in m_with_network]\n",
    "\n",
    "n_percentile_mat = [[] for _ in range(10)]\n",
    "n_vid_mat = [[] for _ in range(10)]\n",
    "for idx, percentile_value in enumerate(n_no_network_perc):\n",
    "    bin_idx = min(int(np.floor(percentile_value / 10)), 9)\n",
    "    n_percentile_mat[bin_idx].append(n_with_network_perc[idx] - percentile_value)\n",
    "    n_vid_mat[bin_idx].append(n_vids[idx])\n",
    "\n"
   ]
  },
  {
   "cell_type": "code",
   "execution_count": 124,
   "id": "8b7116fa",
   "metadata": {},
   "outputs": [
    {
     "data": {
      "text/plain": [
       "Text(0.5, 1.0, 'percentile change of niche videos')"
      ]
     },
     "execution_count": 124,
     "metadata": {},
     "output_type": "execute_result"
    },
    {
     "data": {
      "image/png": "[encoded data removed]",
      "text/plain": [
       "<Figure size 432x288 with 1 Axes>"
      ]
     },
     "metadata": {
      "needs_background": "light"
     },
     "output_type": "display_data"
    }
   ],
   "source": [
    "fig, ax = plt.subplots()\n",
    "# red_circle = dict(markerfacecolor=tomato, marker='o', markersize=4)\n",
    "n_boxplot = ax.boxplot(n_percentile_mat, showfliers=False, widths=0.5)\n",
    "# ax.axhline(y=0, color=cornflower_blue, linestyle='--', lw=1, zorder=0)\n",
    "ax.set_xlabel('niche video percentile without network')\n",
    "ax.set_ylabel('percentile change with network')\n",
    "# ax.tick_params(**tick_style)\n",
    "ax.set_xticks(ax.get_xticks()[::2])\n",
    "ax.xaxis.set_major_formatter(FuncFormatter(lambda x, _: '{0:.0f}%'.format(10 * x)))\n",
    "ax.yaxis.set_major_formatter(FuncFormatter(lambda x, _: '{0:.0f}%'.format(x)))\n",
    "ax.set_title('percentile change of niche videos (outliers hidden)')"
   ]
  },
  {
   "cell_type": "code",
   "execution_count": 126,
   "id": "d366af28",
   "metadata": {},
   "outputs": [
    {
     "data": {
      "text/plain": [
       "Text(0.5, 1.0, 'percentile change of mainstream videos (outliers hidden)')"
      ]
     },
     "execution_count": 126,
     "metadata": {},
     "output_type": "execute_result"
    },
    {
     "data": {
      "image/png": "[encoded data removed]",
      "text/plain": [
       "<Figure size 432x288 with 1 Axes>"
      ]
     },
     "metadata": {
      "needs_background": "light"
     },
     "output_type": "display_data"
    }
   ],
   "source": [
    "m_percentile_mat = [[] for _ in range(10)]\n",
    "m_vid_mat = [[] for _ in range(10)]\n",
    "for idx, percentile_value in enumerate(m_no_network_perc):\n",
    "    bin_idx = min(int(np.floor(percentile_value / 10)), 9)\n",
    "    m_percentile_mat[bin_idx].append(m_with_network_perc[idx] - percentile_value)\n",
    "    m_vid_mat[bin_idx].append(m_vids[idx])\n",
    "    \n",
    "fig, ax = plt.subplots()\n",
    "# red_circle = dict(markerfacecolor=tomato, marker='o', markersize=4)\n",
    "ax.boxplot(m_percentile_mat, showfliers=False, widths=0.5)\n",
    "# ax.axhline(y=0, color=cornflower_blue, linestyle='--', lw=1, zorder=0)\n",
    "ax.set_xlabel('mainstream video percentile without network')\n",
    "ax.set_ylabel('percentile change with network')\n",
    "# ax.tick_params(**tick_style)\n",
    "ax.set_xticks(ax.get_xticks()[::2])\n",
    "ax.xaxis.set_major_formatter(FuncFormatter(lambda x, _: '{0:.0f}%'.format(10 * x)))\n",
    "ax.yaxis.set_major_formatter(FuncFormatter(lambda x, _: '{0:.0f}%'.format(x)))\n",
    "ax.set_title('percentile change of mainstream videos (outliers hidden)')"
   ]
  },
  {
   "cell_type": "code",
   "execution_count": 139,
   "id": "0a11037e",
   "metadata": {},
   "outputs": [
    {
     "name": "stderr",
     "output_type": "stream",
     "text": [
      "No handles with labels found to put in legend.\n"
     ]
    },
    {
     "data": {
      "text/plain": [
       "<matplotlib.legend.Legend at 0x25fb19d3f40>"
      ]
     },
     "execution_count": 139,
     "metadata": {},
     "output_type": "execute_result"
    },
    {
     "data": {
      "image/png": "[encoded data removed]",
      "text/plain": [
       "<Figure size 720x576 with 1 Axes>"
      ]
     },
     "metadata": {
      "needs_background": "light"
     },
     "output_type": "display_data"
    }
   ],
   "source": [
    "mn_percentile_mat = [[] for _ in range(20)]\n",
    "mn_percentile_mat_labels = [\"\" for _ in range(20)]\n",
    "for i in range(20):\n",
    "    if i%2==0:\n",
    "        mn_percentile_mat[i]=m_percentile_mat[int(i/2)]\n",
    "        mn_percentile_mat_labels[i] = 'mainstream'\n",
    "    else:\n",
    "        mn_percentile_mat[i]=n_percentile_mat[math.floor(i/2)]\n",
    "        mn_percentile_mat_labels[i] = 'niche'\n",
    "        \n",
    "fig, ax = plt.subplots(figsize=(10,8))        \n",
    "ax.boxplot(mn_percentile_mat, showfliers=False, widths=0.5, labels=mn_percentile_mat_labels)\n",
    "ax.set_xlabel('mainstream video percentile without network')\n",
    "ax.set_ylabel('percentile change with network')\n",
    "# ax.tick_params(**tick_style)\n",
    "ax.set_xticks(ax.get_xticks()[::2])\n",
    "ax.xaxis.set_major_formatter(FuncFormatter(lambda x, _: '{0:.0f}%'.format(10 * math.ceil(x/2))))\n",
    "ax.yaxis.set_major_formatter(FuncFormatter(lambda x, _: '{0:.0f}%'.format(x)))\n",
    "ax.set_title('percentile change of mainstream videos (outliers hidden)')"
   ]
  },
  {
   "cell_type": "code",
   "execution_count": 131,
   "id": "b1ce9586",
   "metadata": {},
   "outputs": [
    {
     "data": {
      "text/plain": [
       "2"
      ]
     },
     "execution_count": 131,
     "metadata": {},
     "output_type": "execute_result"
    }
   ],
   "source": [
    "math.ceil(3/2)"
   ]
  },
  {
   "cell_type": "code",
   "execution_count": 146,
   "id": "55330790",
   "metadata": {},
   "outputs": [
    {
     "name": "stdout",
     "output_type": "stream",
     "text": [
      "[5333, 5487, 14328, 16552, 18134, 19805, 23158, 23380, 24022, 24246, 24892, 28875, 29661, 31564, 32107, 35755, 39198, 42706, 43343, 43888, 44890, 57303, 59509] [211, 6200, 6824, 8303, 11994, 13582, 18134, 19805, 23158, 23693, 29045, 31615, 31874, 37069, 40150, 43888, 44890, 49977, 50108, 53096, 56420, 58915, 59459]\n"
     ]
    }
   ],
   "source": [
    "def find_outliers(percentile_mat, vid_mat, whis=1.5,):   \n",
    "    top_outliers_list = []\n",
    "    bottom_outliers_list = []\n",
    "    for box_idx, box in enumerate(percentile_mat):\n",
    "        q1 = np.percentile(box, 25)\n",
    "        q3 = np.percentile(box, 75)\n",
    "        iq = q3 - q1\n",
    "        hi_val = q3 + whis * iq\n",
    "        lo_val = q1 - whis * iq\n",
    "        for idx, val in enumerate(box):\n",
    "            if val > hi_val:\n",
    "                top_outliers_list.append(vid_mat[box_idx][idx]) # (artist_cid_mat[box_idx][idx], val\n",
    "            elif val < lo_val:\n",
    "                bottom_outliers_list.append(vid_mat[box_idx][idx])\n",
    "        return top_outliers_list, bottom_outliers_list\n",
    "# same genre, denser, higher werghts \n",
    "n_top_outliers_list, n_bottom_outliers_list = find_outliers(n_percentile_mat, n_vid_mat) \n",
    "m_top_outliers_list, m_bottom_outliers_list = find_outliers(m_percentile_mat, m_vid_mat) \n",
    "print(n_top_outliers_list, m_top_outliers_list)"
   ]
  },
  {
   "cell_type": "code",
   "execution_count": 170,
   "id": "00680f31",
   "metadata": {},
   "outputs": [
    {
     "data": {
      "image/png": "[encoded data removed]",
      "text/plain": [
       "<Figure size 432x288 with 1 Axes>"
      ]
     },
     "metadata": {
      "needs_background": "light"
     },
     "output_type": "display_data"
    }
   ],
   "source": [
    "n_outliers_ratio_list = [embed_ratio_dict[i] for i in n_top_outliers_list]\n",
    "n_outliers_avg_view_list = [embed_avg_view_dict[i] for i in n_top_outliers_list]\n",
    "m_outliers_ratio_list = [embed_ratio_dict[i] for i in m_top_outliers_list]\n",
    "m_outliers_avg_view_list = [embed_avg_view_dict[i] for i in m_top_outliers_list]\n",
    "plt.scatter(n_outliers_avg_view_list, n_outliers_ratio_list, facecolors='none', marker='o', color='b', label='niche')\n",
    "plt.scatter(m_outliers_avg_view_list, m_outliers_ratio_list, facecolors='none', marker='s', color='r', label='mainstream')\n",
    "plt.ylim(0.7, 1.1)\n",
    "plt.xlim(0, 10000)\n",
    "plt.xlabel('average views')\n",
    "plt.ylabel('net ratio')\n",
    "plt.legend()\n",
    "# plt.xscale('log')\n",
    "plt.title(\"average views vs net ratio for outliers\")\n",
    "plt.show()"
   ]
  },
  {
   "cell_type": "code",
   "execution_count": 171,
   "id": "24d4b7f0",
   "metadata": {},
   "outputs": [
    {
     "name": "stdout",
     "output_type": "stream",
     "text": [
      "['Mindless Behavior - Hello', 'The Style Council - Shout To The Top', 'R. Kelly - Trapped in the Closet Chapter 12', 'Ellie Goulding - Guns And Horses', \"Lauren Daigle - Here's My Heart (Audio)\"]\n",
      "['Chris Stapleton - When The Stars Come Out (Audio)', \"Kacey Musgraves - Merry Go 'Round\", 'Ellie Goulding - Guns And Horses', 'Breaking Benjamin - Down (Audio)', \"Lauren Daigle - Here's My Heart (Audio)\"]\n"
     ]
    }
   ],
   "source": [
    "m_example_outliers = [embed_title_dict[i] for i in m_top_outliers_list if embed_avg_view_dict[i]>2000]\n",
    "n_example_outliers = [embed_title_dict[i] for i in n_top_outliers_list if embed_avg_view_dict[i]>2000]\n",
    "print(m_example_outliers)\n",
    "print(n_example_outliers)"
   ]
  },
  {
   "cell_type": "code",
   "execution_count": null,
   "id": "25d8d3e2",
   "metadata": {},
   "outputs": [],
   "source": []
  }
 ],
 "metadata": {
  "kernelspec": {
   "display_name": "Python 3",
   "language": "python",
   "name": "python3"
  },
  "language_info": {
   "codemirror_mode": {
    "name": "ipython",
    "version": 3
   },
   "file_extension": ".py",
   "mimetype": "text/x-python",
   "name": "python",
   "nbconvert_exporter": "python",
   "pygments_lexer": "ipython3",
   "version": "3.8.8"
  }
 },
 "nbformat": 4,
 "nbformat_minor": 5
}
